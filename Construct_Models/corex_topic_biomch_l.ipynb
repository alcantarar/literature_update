{
 "cells": [
  {
   "cell_type": "markdown",
   "metadata": {},
   "source": [
    "# Anchored CorEx: Topic Modeling with Minimal Domain Knowledge"
   ]
  },
  {
   "cell_type": "markdown",
   "metadata": {},
   "source": [
    "**Author:** [Ryan J. Gallagher](http://ryanjgallagher.github.io/)  \n",
    "\n",
    "**Last updated:** 07/21/2018"
   ]
  },
  {
   "cell_type": "markdown",
   "metadata": {},
   "source": [
    "This notebook walks through how to use the CorEx topic model code. This includes fitting CorEx to your data, examining the topic model output, outputting results, building a hierarchical topic model, and anchoring words to topics.\n",
    "\n",
    "Details of the CorEx topic model and evaluations against unsupervised and semi-supervised variants of LDA can be found in our TACL paper:\n",
    "\n",
    "Gallagher, Ryan J., Kyle Reing, David Kale, and Greg Ver Steeg. \"[Anchored Correlation Explanation: Topic Modeling with Minimal Domain Knowledge](https://www.transacl.org/ojs/index.php/tacl/article/view/1244).\" *Transactions of the Association for Computational Linguistics (TACL)*, 2017."
   ]
  },
  {
   "cell_type": "code",
   "execution_count": 1,
   "metadata": {},
   "outputs": [],
   "source": [
    "import numpy as np\n",
    "import scipy.sparse as ss\n",
    "import matplotlib.pyplot as plt\n",
    "\n",
    "from corextopic import corextopic as ct\n",
    "from corextopic import vis_topic# jupyter notebooks will complain matplotlib is being loaded twice\n",
    "\n",
    "from sklearn.datasets import fetch_20newsgroups\n",
    "from sklearn.feature_extraction.text import CountVectorizer\n",
    "\n",
    "%matplotlib inline\n",
    "\n",
    "import pandas as pd\n",
    "from sklearn.feature_extraction import text\n"
   ]
  },
  {
   "cell_type": "markdown",
   "metadata": {},
   "source": [
    "## Loading the 20 Newsgroups Dataset"
   ]
  },
  {
   "cell_type": "markdown",
   "metadata": {},
   "source": [
    "We need to first load data to run the CorEx topic model. We'll use the 20 Newsgroups dataset, which scikit-learn provides functionality to access."
   ]
  },
  {
   "cell_type": "code",
   "execution_count": 2,
   "metadata": {},
   "outputs": [
    {
     "name": "stdout",
     "output_type": "stream",
     "text": [
      "topic\n",
      "BONE                              1957\n",
      "CARDIOVASCULAR/CARDIOPULMONARY    1164\n",
      "CELLULAR/SUBCELLULAR              1217\n",
      "COMPARATIVE                       1602\n",
      "DENTAL/ORAL/FACIAL                1346\n",
      "ERGONOMICS                         502\n",
      "EVOLUTION/ANTHROPOLOGY             998\n",
      "GAIT/LOCOMOTION                   3184\n",
      "JOINT/CARTILAGE                   1429\n",
      "METHODS                           1440\n",
      "MODELING                          1240\n",
      "MUSCLE                             705\n",
      "NEURAL                            1705\n",
      "ORTHOPAEDICS/SPINE                2286\n",
      "ORTHOPAEDICS/SURGERY              3056\n",
      "PROSTHETICS/ORTHOTICS              554\n",
      "REHABILITATION                    1176\n",
      "ROBOTICS                          1059\n",
      "SPORT/EXERCISE                    2810\n",
      "TENDON/LIGAMENT                   1551\n",
      "TISSUE/BIOMATERIAL                2117\n",
      "TRAUMA/IMPACTTESTING               690\n",
      "VETERINARY/AGRICULTURAL            702\n",
      "VISUAL/VESTIBULAR/EYE              777\n",
      "Name: title, dtype: int64\n"
     ]
    }
   ],
   "source": [
    "data = pd.read_csv('../Data/RYANDATA_filt.csv')\n",
    "data.columns = ['V0', 'topic', 'authors','title','journal','year','vol_issue','doi','abstract']\n",
    "print(data.groupby('topic')['title'].nunique())"
   ]
  },
  {
   "cell_type": "code",
   "execution_count": 3,
   "metadata": {},
   "outputs": [
    {
     "data": {
      "text/plain": [
       "GAIT/LOCOMOTION                   2547\n",
       "ORTHOPAEDICS/SURGERY              2445\n",
       "SPORT/EXERCISE                    2248\n",
       "ORTHOPAEDICS/SPINE                1829\n",
       "TISSUE/BIOMATERIAL                1693\n",
       "BONE                              1565\n",
       "NEURAL                            1364\n",
       "COMPARATIVE                       1281\n",
       "TENDON/LIGAMENT                   1241\n",
       "METHODS                           1152\n",
       "JOINT/CARTILAGE                   1143\n",
       "DENTAL/ORAL/FACIAL                1077\n",
       "MODELING                           992\n",
       "CELLULAR/SUBCELLULAR               974\n",
       "REHABILITATION                     941\n",
       "CARDIOVASCULAR/CARDIOPULMONARY     931\n",
       "ROBOTICS                           847\n",
       "EVOLUTION/ANTHROPOLOGY             798\n",
       "VISUAL/VESTIBULAR/EYE              622\n",
       "MUSCLE                             564\n",
       "VETERINARY/AGRICULTURAL            562\n",
       "TRAUMA/IMPACTTESTING               552\n",
       "PROSTHETICS/ORTHOTICS              443\n",
       "ERGONOMICS                         402\n",
       "Name: topic, dtype: int64"
      ]
     },
     "execution_count": 3,
     "metadata": {},
     "output_type": "execute_result"
    }
   ],
   "source": [
    "#split data keeping distribution\n",
    "from sklearn.model_selection import StratifiedShuffleSplit\n",
    "sss = StratifiedShuffleSplit(n_splits= 1, \n",
    "                             test_size = 0.2, \n",
    "                             random_state = 0)\n",
    "\n",
    "for train_idx, test_idx in sss.split(data['title'],data['topic']):\n",
    "    X_train, X_test = data['title'][train_idx], data['title'][test_idx]\n",
    "    y_train, y_test = data['topic'][train_idx], data['topic'][test_idx]\n",
    "\n",
    "\n",
    "y_train.value_counts() #same distribution as original data"
   ]
  },
  {
   "cell_type": "code",
   "execution_count": 4,
   "metadata": {},
   "outputs": [
    {
     "name": "stdout",
     "output_type": "stream",
     "text": [
      "Original document: \n",
      "Proximal radius fracture morphology following axial force impact: a biomechanical evaluation of fracture patterns\n",
      "\n",
      "Tokenized and lemmatized document: \n",
      "proximal radius fracture morphology following axial force impact biomechanical evaluation fracture patterns \n",
      "\n"
     ]
    },
    {
     "data": {
      "text/html": [
       "<div>\n",
       "<style scoped>\n",
       "    .dataframe tbody tr th:only-of-type {\n",
       "        vertical-align: middle;\n",
       "    }\n",
       "\n",
       "    .dataframe tbody tr th {\n",
       "        vertical-align: top;\n",
       "    }\n",
       "\n",
       "    .dataframe thead th {\n",
       "        text-align: right;\n",
       "    }\n",
       "</style>\n",
       "<table border=\"1\" class=\"dataframe\">\n",
       "  <thead>\n",
       "    <tr style=\"text-align: right;\">\n",
       "      <th></th>\n",
       "      <th>title</th>\n",
       "      <th>topic</th>\n",
       "    </tr>\n",
       "  </thead>\n",
       "  <tbody>\n",
       "    <tr>\n",
       "      <th>8793</th>\n",
       "      <td>overcoming limitations harmonic ratio reliable...</td>\n",
       "      <td>GAIT/LOCOMOTION</td>\n",
       "    </tr>\n",
       "    <tr>\n",
       "      <th>6411</th>\n",
       "      <td>influence different abutment designs biomechan...</td>\n",
       "      <td>DENTAL/ORAL/FACIAL</td>\n",
       "    </tr>\n",
       "    <tr>\n",
       "      <th>24002</th>\n",
       "      <td>content validation clinical assessment instrum...</td>\n",
       "      <td>REHABILITATION</td>\n",
       "    </tr>\n",
       "    <tr>\n",
       "      <th>35014</th>\n",
       "      <td>neural control adaptive neural forward models ...</td>\n",
       "      <td>ROBOTICS</td>\n",
       "    </tr>\n",
       "    <tr>\n",
       "      <th>16312</th>\n",
       "      <td>dual developmental origin spinal cerebrospinal...</td>\n",
       "      <td>NEURAL</td>\n",
       "    </tr>\n",
       "    <tr>\n",
       "      <th>21506</th>\n",
       "      <td>remplissage versus latarjet engaging hill sach...</td>\n",
       "      <td>ORTHOPAEDICS/SURGERY</td>\n",
       "    </tr>\n",
       "    <tr>\n",
       "      <th>3450</th>\n",
       "      <td>aquantitative image analysis cellular cytoskel...</td>\n",
       "      <td>CELLULAR/SUBCELLULAR</td>\n",
       "    </tr>\n",
       "    <tr>\n",
       "      <th>34341</th>\n",
       "      <td>gait trajectory rolling planning control hexap...</td>\n",
       "      <td>ROBOTICS</td>\n",
       "    </tr>\n",
       "    <tr>\n",
       "      <th>11238</th>\n",
       "      <td>functional properties chondrocytes articular c...</td>\n",
       "      <td>JOINT/CARTILAGE</td>\n",
       "    </tr>\n",
       "    <tr>\n",
       "      <th>4816</th>\n",
       "      <td>effect foot posture capacity apply free moment...</td>\n",
       "      <td>COMPARATIVE</td>\n",
       "    </tr>\n",
       "    <tr>\n",
       "      <th>27340</th>\n",
       "      <td>differences kinematics baseball swing hitters ...</td>\n",
       "      <td>SPORT/EXERCISE</td>\n",
       "    </tr>\n",
       "    <tr>\n",
       "      <th>596</th>\n",
       "      <td>sclerostin antibody increases callus size stre...</td>\n",
       "      <td>BONE</td>\n",
       "    </tr>\n",
       "    <tr>\n",
       "      <th>31008</th>\n",
       "      <td>coculture human mesenchymal stem cells articul...</td>\n",
       "      <td>TISSUE/BIOMATERIAL</td>\n",
       "    </tr>\n",
       "    <tr>\n",
       "      <th>2095</th>\n",
       "      <td>mechanical response human subclavian iliac art...</td>\n",
       "      <td>CARDIOVASCULAR/CARDIOPULMONARY</td>\n",
       "    </tr>\n",
       "    <tr>\n",
       "      <th>548</th>\n",
       "      <td>statistical analysis inter individual variatio...</td>\n",
       "      <td>BONE</td>\n",
       "    </tr>\n",
       "    <tr>\n",
       "      <th>28648</th>\n",
       "      <td>relative motion tendon limbs loop tendon graft</td>\n",
       "      <td>TENDON/LIGAMENT</td>\n",
       "    </tr>\n",
       "    <tr>\n",
       "      <th>8844</th>\n",
       "      <td>comparison muscle synergies running different ...</td>\n",
       "      <td>GAIT/LOCOMOTION</td>\n",
       "    </tr>\n",
       "    <tr>\n",
       "      <th>6559</th>\n",
       "      <td>push bond strength evaluation glass fiber post...</td>\n",
       "      <td>DENTAL/ORAL/FACIAL</td>\n",
       "    </tr>\n",
       "    <tr>\n",
       "      <th>17356</th>\n",
       "      <td>sensitivity dimensional hindlimb joint kinemat...</td>\n",
       "      <td>NEURAL</td>\n",
       "    </tr>\n",
       "    <tr>\n",
       "      <th>32393</th>\n",
       "      <td>vitro comparison suture techniques anastomosis...</td>\n",
       "      <td>VETERINARY/AGRICULTURAL</td>\n",
       "    </tr>\n",
       "    <tr>\n",
       "      <th>17779</th>\n",
       "      <td>intramedullary nail integrated cephalocervical...</td>\n",
       "      <td>ORTHOPAEDICS/SPINE</td>\n",
       "    </tr>\n",
       "    <tr>\n",
       "      <th>3120</th>\n",
       "      <td>regional left ventricular myocardial contracti...</td>\n",
       "      <td>CARDIOVASCULAR/CARDIOPULMONARY</td>\n",
       "    </tr>\n",
       "    <tr>\n",
       "      <th>75</th>\n",
       "      <td>circle method helps reliable cortical thicknes...</td>\n",
       "      <td>BONE</td>\n",
       "    </tr>\n",
       "    <tr>\n",
       "      <th>124</th>\n",
       "      <td>combined treatment alendronate drynaria rhizom...</td>\n",
       "      <td>BONE</td>\n",
       "    </tr>\n",
       "    <tr>\n",
       "      <th>8472</th>\n",
       "      <td>study association gait variability physical ac...</td>\n",
       "      <td>GAIT/LOCOMOTION</td>\n",
       "    </tr>\n",
       "    <tr>\n",
       "      <th>12335</th>\n",
       "      <td>neuromuscular efficiency stand movement women ...</td>\n",
       "      <td>JOINT/CARTILAGE</td>\n",
       "    </tr>\n",
       "    <tr>\n",
       "      <th>10789</th>\n",
       "      <td>movement deviation profile measure distance no...</td>\n",
       "      <td>GAIT/LOCOMOTION</td>\n",
       "    </tr>\n",
       "    <tr>\n",
       "      <th>31104</th>\n",
       "      <td>characterizing endogenous time course controll...</td>\n",
       "      <td>TRAUMA/IMPACTTESTING</td>\n",
       "    </tr>\n",
       "    <tr>\n",
       "      <th>17691</th>\n",
       "      <td>preventing pseudoarthrosis proximal junctional...</td>\n",
       "      <td>ORTHOPAEDICS/SPINE</td>\n",
       "    </tr>\n",
       "    <tr>\n",
       "      <th>16997</th>\n",
       "      <td>effect active pedaling combined electrical sti...</td>\n",
       "      <td>NEURAL</td>\n",
       "    </tr>\n",
       "    <tr>\n",
       "      <th>...</th>\n",
       "      <td>...</td>\n",
       "      <td>...</td>\n",
       "    </tr>\n",
       "    <tr>\n",
       "      <th>32736</th>\n",
       "      <td>vivo early corneal biomechanical changes corne...</td>\n",
       "      <td>VISUAL/VESTIBULAR/EYE</td>\n",
       "    </tr>\n",
       "    <tr>\n",
       "      <th>12860</th>\n",
       "      <td>dimensional shear wave imaging based field las...</td>\n",
       "      <td>METHODS</td>\n",
       "    </tr>\n",
       "    <tr>\n",
       "      <th>18295</th>\n",
       "      <td>biomechanical fixation properties cortical ver...</td>\n",
       "      <td>ORTHOPAEDICS/SPINE</td>\n",
       "    </tr>\n",
       "    <tr>\n",
       "      <th>11440</th>\n",
       "      <td>biomechanical viscoelastic properties differen...</td>\n",
       "      <td>JOINT/CARTILAGE</td>\n",
       "    </tr>\n",
       "    <tr>\n",
       "      <th>9990</th>\n",
       "      <td>biomechanics race walking literature overview ...</td>\n",
       "      <td>GAIT/LOCOMOTION</td>\n",
       "    </tr>\n",
       "    <tr>\n",
       "      <th>1816</th>\n",
       "      <td>effect spinal level loading conditions product...</td>\n",
       "      <td>BONE</td>\n",
       "    </tr>\n",
       "    <tr>\n",
       "      <th>9490</th>\n",
       "      <td>decoding sensorimotor rhythms robotic assisted...</td>\n",
       "      <td>GAIT/LOCOMOTION</td>\n",
       "    </tr>\n",
       "    <tr>\n",
       "      <th>33917</th>\n",
       "      <td>modeling skeletal traits functions upper body ...</td>\n",
       "      <td>EVOLUTION/ANTHROPOLOGY</td>\n",
       "    </tr>\n",
       "    <tr>\n",
       "      <th>3112</th>\n",
       "      <td>verification dimensional finite element method...</td>\n",
       "      <td>CARDIOVASCULAR/CARDIOPULMONARY</td>\n",
       "    </tr>\n",
       "    <tr>\n",
       "      <th>32555</th>\n",
       "      <td>predicting refractive outcome small incision l...</td>\n",
       "      <td>VISUAL/VESTIBULAR/EYE</td>\n",
       "    </tr>\n",
       "    <tr>\n",
       "      <th>29907</th>\n",
       "      <td>protein engineered scaffolds vitro culture pri...</td>\n",
       "      <td>TISSUE/BIOMATERIAL</td>\n",
       "    </tr>\n",
       "    <tr>\n",
       "      <th>1137</th>\n",
       "      <td>extracting accurate strain measurements bone m...</td>\n",
       "      <td>BONE</td>\n",
       "    </tr>\n",
       "    <tr>\n",
       "      <th>22492</th>\n",
       "      <td>primary results kienbock disease treated ballo...</td>\n",
       "      <td>ORTHOPAEDICS/SURGERY</td>\n",
       "    </tr>\n",
       "    <tr>\n",
       "      <th>13861</th>\n",
       "      <td>optimization split keyboard design touchscreen...</td>\n",
       "      <td>MODELING</td>\n",
       "    </tr>\n",
       "    <tr>\n",
       "      <th>1928</th>\n",
       "      <td>femoroplasty injectable resorbable calcium pho...</td>\n",
       "      <td>BONE</td>\n",
       "    </tr>\n",
       "    <tr>\n",
       "      <th>16618</th>\n",
       "      <td>dissociation locomotor cerebellar deficits mur...</td>\n",
       "      <td>NEURAL</td>\n",
       "    </tr>\n",
       "    <tr>\n",
       "      <th>22691</th>\n",
       "      <td>mechanical stress tensioned wires direct indir...</td>\n",
       "      <td>ORTHOPAEDICS/SURGERY</td>\n",
       "    </tr>\n",
       "    <tr>\n",
       "      <th>6224</th>\n",
       "      <td>mechanical equilibrium forces moments applied ...</td>\n",
       "      <td>DENTAL/ORAL/FACIAL</td>\n",
       "    </tr>\n",
       "    <tr>\n",
       "      <th>26494</th>\n",
       "      <td>trunk bend twist coordination affected pain st...</td>\n",
       "      <td>SPORT/EXERCISE</td>\n",
       "    </tr>\n",
       "    <tr>\n",
       "      <th>15922</th>\n",
       "      <td>consistent visuomotor adaptations generalizati...</td>\n",
       "      <td>NEURAL</td>\n",
       "    </tr>\n",
       "    <tr>\n",
       "      <th>6665</th>\n",
       "      <td>influence delivered radiant exposure values bo...</td>\n",
       "      <td>DENTAL/ORAL/FACIAL</td>\n",
       "    </tr>\n",
       "    <tr>\n",
       "      <th>2982</th>\n",
       "      <td>attenuation spinal cord ischemia reperfusion i...</td>\n",
       "      <td>CARDIOVASCULAR/CARDIOPULMONARY</td>\n",
       "    </tr>\n",
       "    <tr>\n",
       "      <th>23437</th>\n",
       "      <td>walking gait asymmetries months following ante...</td>\n",
       "      <td>REHABILITATION</td>\n",
       "    </tr>\n",
       "    <tr>\n",
       "      <th>4718</th>\n",
       "      <td>enclosure utilisation activity budgets disable...</td>\n",
       "      <td>COMPARATIVE</td>\n",
       "    </tr>\n",
       "    <tr>\n",
       "      <th>29438</th>\n",
       "      <td>porous scaffold internal architecture design b...</td>\n",
       "      <td>TISSUE/BIOMATERIAL</td>\n",
       "    </tr>\n",
       "    <tr>\n",
       "      <th>22161</th>\n",
       "      <td>comparison gait pathology outcomes meniscal pr...</td>\n",
       "      <td>ORTHOPAEDICS/SURGERY</td>\n",
       "    </tr>\n",
       "    <tr>\n",
       "      <th>4789</th>\n",
       "      <td>related changes locomotor performance reveal s...</td>\n",
       "      <td>COMPARATIVE</td>\n",
       "    </tr>\n",
       "    <tr>\n",
       "      <th>15283</th>\n",
       "      <td>vivo multiscale spatially dependent biomechani...</td>\n",
       "      <td>MUSCLE</td>\n",
       "    </tr>\n",
       "    <tr>\n",
       "      <th>34506</th>\n",
       "      <td>adaptive energy efficient walking hexapod robo...</td>\n",
       "      <td>ROBOTICS</td>\n",
       "    </tr>\n",
       "    <tr>\n",
       "      <th>14985</th>\n",
       "      <td>comparison multiple linear regression artifici...</td>\n",
       "      <td>MODELING</td>\n",
       "    </tr>\n",
       "  </tbody>\n",
       "</table>\n",
       "<p>28213 rows × 2 columns</p>\n",
       "</div>"
      ],
      "text/plain": [
       "                                                   title  \\\n",
       "8793   overcoming limitations harmonic ratio reliable...   \n",
       "6411   influence different abutment designs biomechan...   \n",
       "24002  content validation clinical assessment instrum...   \n",
       "35014  neural control adaptive neural forward models ...   \n",
       "16312  dual developmental origin spinal cerebrospinal...   \n",
       "21506  remplissage versus latarjet engaging hill sach...   \n",
       "3450   aquantitative image analysis cellular cytoskel...   \n",
       "34341  gait trajectory rolling planning control hexap...   \n",
       "11238  functional properties chondrocytes articular c...   \n",
       "4816   effect foot posture capacity apply free moment...   \n",
       "27340  differences kinematics baseball swing hitters ...   \n",
       "596    sclerostin antibody increases callus size stre...   \n",
       "31008  coculture human mesenchymal stem cells articul...   \n",
       "2095   mechanical response human subclavian iliac art...   \n",
       "548    statistical analysis inter individual variatio...   \n",
       "28648     relative motion tendon limbs loop tendon graft   \n",
       "8844   comparison muscle synergies running different ...   \n",
       "6559   push bond strength evaluation glass fiber post...   \n",
       "17356  sensitivity dimensional hindlimb joint kinemat...   \n",
       "32393  vitro comparison suture techniques anastomosis...   \n",
       "17779  intramedullary nail integrated cephalocervical...   \n",
       "3120   regional left ventricular myocardial contracti...   \n",
       "75     circle method helps reliable cortical thicknes...   \n",
       "124    combined treatment alendronate drynaria rhizom...   \n",
       "8472   study association gait variability physical ac...   \n",
       "12335  neuromuscular efficiency stand movement women ...   \n",
       "10789  movement deviation profile measure distance no...   \n",
       "31104  characterizing endogenous time course controll...   \n",
       "17691  preventing pseudoarthrosis proximal junctional...   \n",
       "16997  effect active pedaling combined electrical sti...   \n",
       "...                                                  ...   \n",
       "32736  vivo early corneal biomechanical changes corne...   \n",
       "12860  dimensional shear wave imaging based field las...   \n",
       "18295  biomechanical fixation properties cortical ver...   \n",
       "11440  biomechanical viscoelastic properties differen...   \n",
       "9990   biomechanics race walking literature overview ...   \n",
       "1816   effect spinal level loading conditions product...   \n",
       "9490   decoding sensorimotor rhythms robotic assisted...   \n",
       "33917  modeling skeletal traits functions upper body ...   \n",
       "3112   verification dimensional finite element method...   \n",
       "32555  predicting refractive outcome small incision l...   \n",
       "29907  protein engineered scaffolds vitro culture pri...   \n",
       "1137   extracting accurate strain measurements bone m...   \n",
       "22492  primary results kienbock disease treated ballo...   \n",
       "13861  optimization split keyboard design touchscreen...   \n",
       "1928   femoroplasty injectable resorbable calcium pho...   \n",
       "16618  dissociation locomotor cerebellar deficits mur...   \n",
       "22691  mechanical stress tensioned wires direct indir...   \n",
       "6224   mechanical equilibrium forces moments applied ...   \n",
       "26494  trunk bend twist coordination affected pain st...   \n",
       "15922  consistent visuomotor adaptations generalizati...   \n",
       "6665   influence delivered radiant exposure values bo...   \n",
       "2982   attenuation spinal cord ischemia reperfusion i...   \n",
       "23437  walking gait asymmetries months following ante...   \n",
       "4718   enclosure utilisation activity budgets disable...   \n",
       "29438  porous scaffold internal architecture design b...   \n",
       "22161  comparison gait pathology outcomes meniscal pr...   \n",
       "4789   related changes locomotor performance reveal s...   \n",
       "15283  vivo multiscale spatially dependent biomechani...   \n",
       "34506  adaptive energy efficient walking hexapod robo...   \n",
       "14985  comparison multiple linear regression artifici...   \n",
       "\n",
       "                                topic  \n",
       "8793                  GAIT/LOCOMOTION  \n",
       "6411               DENTAL/ORAL/FACIAL  \n",
       "24002                  REHABILITATION  \n",
       "35014                        ROBOTICS  \n",
       "16312                          NEURAL  \n",
       "21506            ORTHOPAEDICS/SURGERY  \n",
       "3450             CELLULAR/SUBCELLULAR  \n",
       "34341                        ROBOTICS  \n",
       "11238                 JOINT/CARTILAGE  \n",
       "4816                      COMPARATIVE  \n",
       "27340                  SPORT/EXERCISE  \n",
       "596                              BONE  \n",
       "31008              TISSUE/BIOMATERIAL  \n",
       "2095   CARDIOVASCULAR/CARDIOPULMONARY  \n",
       "548                              BONE  \n",
       "28648                 TENDON/LIGAMENT  \n",
       "8844                  GAIT/LOCOMOTION  \n",
       "6559               DENTAL/ORAL/FACIAL  \n",
       "17356                          NEURAL  \n",
       "32393         VETERINARY/AGRICULTURAL  \n",
       "17779              ORTHOPAEDICS/SPINE  \n",
       "3120   CARDIOVASCULAR/CARDIOPULMONARY  \n",
       "75                               BONE  \n",
       "124                              BONE  \n",
       "8472                  GAIT/LOCOMOTION  \n",
       "12335                 JOINT/CARTILAGE  \n",
       "10789                 GAIT/LOCOMOTION  \n",
       "31104            TRAUMA/IMPACTTESTING  \n",
       "17691              ORTHOPAEDICS/SPINE  \n",
       "16997                          NEURAL  \n",
       "...                               ...  \n",
       "32736           VISUAL/VESTIBULAR/EYE  \n",
       "12860                         METHODS  \n",
       "18295              ORTHOPAEDICS/SPINE  \n",
       "11440                 JOINT/CARTILAGE  \n",
       "9990                  GAIT/LOCOMOTION  \n",
       "1816                             BONE  \n",
       "9490                  GAIT/LOCOMOTION  \n",
       "33917          EVOLUTION/ANTHROPOLOGY  \n",
       "3112   CARDIOVASCULAR/CARDIOPULMONARY  \n",
       "32555           VISUAL/VESTIBULAR/EYE  \n",
       "29907              TISSUE/BIOMATERIAL  \n",
       "1137                             BONE  \n",
       "22492            ORTHOPAEDICS/SURGERY  \n",
       "13861                        MODELING  \n",
       "1928                             BONE  \n",
       "16618                          NEURAL  \n",
       "22691            ORTHOPAEDICS/SURGERY  \n",
       "6224               DENTAL/ORAL/FACIAL  \n",
       "26494                  SPORT/EXERCISE  \n",
       "15922                          NEURAL  \n",
       "6665               DENTAL/ORAL/FACIAL  \n",
       "2982   CARDIOVASCULAR/CARDIOPULMONARY  \n",
       "23437                  REHABILITATION  \n",
       "4718                      COMPARATIVE  \n",
       "29438              TISSUE/BIOMATERIAL  \n",
       "22161            ORTHOPAEDICS/SURGERY  \n",
       "4789                      COMPARATIVE  \n",
       "15283                          MUSCLE  \n",
       "34506                        ROBOTICS  \n",
       "14985                        MODELING  \n",
       "\n",
       "[28213 rows x 2 columns]"
      ]
     },
     "execution_count": 4,
     "metadata": {},
     "output_type": "execute_result"
    }
   ],
   "source": [
    "#https://towardsdatascience.com/topic-modeling-and-latent-dirichlet-allocation-in-python-9bf156893c24\n",
    "import gensim\n",
    "from gensim.utils import simple_preprocess\n",
    "from gensim.parsing.preprocessing import STOPWORDS\n",
    "from nltk.stem import WordNetLemmatizer, SnowballStemmer\n",
    "# from nltk.stem.porter import *\n",
    "import numpy as np\n",
    "np.random.seed(0)\n",
    "\n",
    "# import nltk\n",
    "# nltk.download('wordnet')\n",
    "\n",
    "#tokenize, lemmatized, stemmed\n",
    "stemmer = SnowballStemmer(language='english')\n",
    "def lemmatize_stemming(text):\n",
    "    return stemmer.stem(WordNetLemmatizer().lemmatize(text, pos='v'))\n",
    "def preprocess(text):\n",
    "    result = []\n",
    "    for token in gensim.utils.simple_preprocess(text):\n",
    "        if token not in gensim.parsing.preprocessing.STOPWORDS and len(token) > 3:\n",
    "#             result.append(lemmatize_stemming(token))\n",
    "            result.append(token)\n",
    "    result = ' '.join(result)        \n",
    "    return result\n",
    "\n",
    "doc_sample = X_train[0]\n",
    "print('Original document: ')\n",
    "words = []\n",
    "for doc in [doc_sample]:\n",
    "    print(doc)\n",
    "print('\\nTokenized and lemmatized document: ')\n",
    "print(preprocess(doc_sample),'\\n')\n",
    "\n",
    "X_train_proc = X_train.map(preprocess)\n",
    "\n",
    "train_data = pd.DataFrame({'title':X_train_proc, 'topic':y_train})\n",
    "train_data\n",
    "                      \n",
    "          \n",
    "         "
   ]
  },
  {
   "cell_type": "markdown",
   "metadata": {},
   "source": [
    "The topic model assumes input is in the form of a doc-word matrix, where rows are documents and columns are binary counts. We'll vectorize the newsgroups data, take the top 20,000 words, and convert it to a sparse matrix to save on memory usage. Note, we use binary count vectors as input to the CorEx topic model."
   ]
  },
  {
   "cell_type": "code",
   "execution_count": 5,
   "metadata": {},
   "outputs": [
    {
     "data": {
      "text/plain": [
       "(28213, 20000)"
      ]
     },
     "execution_count": 5,
     "metadata": {},
     "output_type": "execute_result"
    }
   ],
   "source": [
    "#transform title data into sparse matrix\n",
    "#additional stop words\n",
    "stop_words = text.ENGLISH_STOP_WORDS.union(['biomechanics','biomechanical','locomotor','locomotion','study'])\n",
    "#CountVectorizer\n",
    "vectorizer = CountVectorizer(min_df=3,\n",
    "                            max_df=0.5,\n",
    "                            max_features= 20000,\n",
    "                            ngram_range=(1,3),\n",
    "                            strip_accents='unicode',\n",
    "                            lowercase=True,\n",
    "                            analyzer='word',\n",
    "                            stop_words=stop_words,\n",
    "                            token_pattern= '[a-zA-Z-0-9]{3,}',\n",
    "                            #TRY BINARY = TRUE\n",
    "                           )\n",
    "doc_word = vectorizer.fit_transform(train_data['title'])\n",
    "doc_word = ss.csr_matrix(doc_word)\n",
    "doc_word.shape # n_docs x m_words\n"
   ]
  },
  {
   "cell_type": "code",
   "execution_count": 135,
   "metadata": {},
   "outputs": [],
   "source": [
    "#get common words for each topic\n",
    "n_top_topics = 3\n",
    "title_subset = []\n",
    "top_words = []\n",
    "freq_list = []\n",
    "words_freq = []\n",
    "for i in train_data.groupby('topic'):\n",
    "    title_subset.append(i)\n",
    "for a in title_subset:  \n",
    "    a # all titles in a given topic\n",
    "    bag_of_words = vectorizer.transform(a[1]['title'])\n",
    "    sum_words = bag_of_words.sum(axis = 0)\n",
    "    words_freq = [(word, sum_words[0, idx]) for word, idx in vectorizer.vocabulary_.items()]\n",
    "    words_freq = sorted(words_freq, key = lambda x: x[1], reverse = True)\n",
    "    words_freq = words_freq[:n_top_topics]\n",
    "    for item in list(zip(*words_freq))[0]:\n",
    "        freq_list.append(item)\n",
    "\n",
    "freq_list = [freq_list[i:i + n_top_topics] for i in range(0, len(freq_list), n_top_topics)]"
   ]
  },
  {
   "cell_type": "code",
   "execution_count": 151,
   "metadata": {},
   "outputs": [
    {
     "data": {
      "text/plain": [
       "24"
      ]
     },
     "execution_count": 151,
     "metadata": {},
     "output_type": "execute_result"
    }
   ],
   "source": [
    "anchor_list = pd.DataFrame({'top_words':freq_list})\n",
    "anchor_list.iloc[0]['top_words'] #will use this to anchor model later. \n",
    "len(anchor_list)"
   ]
  },
  {
   "cell_type": "markdown",
   "metadata": {},
   "source": [
    "Our doc-word matrix is 11,314 documents by 20,000 words. Let's get the words that label the columns. We'll need these for outputting readable topics and later for anchoring."
   ]
  },
  {
   "cell_type": "code",
   "execution_count": 149,
   "metadata": {},
   "outputs": [
    {
     "data": {
      "text/plain": [
       "20000"
      ]
     },
     "execution_count": 149,
     "metadata": {},
     "output_type": "execute_result"
    }
   ],
   "source": [
    "# Get words that label the columns (needed to extract readable topics and make anchoring easier)\n",
    "words = list(np.asarray(vectorizer.get_feature_names()))\n",
    "len(words)"
   ]
  },
  {
   "cell_type": "markdown",
   "metadata": {},
   "source": [
    "## CorEx Topic Model"
   ]
  },
  {
   "cell_type": "markdown",
   "metadata": {},
   "source": [
    "The main parameters of the CorEx topic model are:\n",
    "+ **`n_hidden`**: number of topics (\"hidden\" as in \"hidden latent topics\")\n",
    "+ **`words`**: words that label the columns of the doc-word matrix (optional)\n",
    "+ **`docs`**: document labels that label the rows of the doc-word matrix (optional)\n",
    "+ **`max_iter`**: number of iterations to run through the update equations (optional, defaults to 200)\n",
    "+ **`verbose`**:  if `verbose=1`, then CorEx will print the topic TCs with each iteration\n",
    "+ **`seed`**:     random number seed to use for model initialization (optional)\n",
    "\n",
    "We'll train a topic model with 50 topics. (This will take a few minutes.)"
   ]
  },
  {
   "cell_type": "code",
   "execution_count": 152,
   "metadata": {},
   "outputs": [
    {
     "name": "stdout",
     "output_type": "stream",
     "text": [
      "model fit with 24 topics\n"
     ]
    }
   ],
   "source": [
    "# Train the CorEx topic model with 50 topics\n",
    "n_topics = len(anchor_list)\n",
    "topic_model = ct.Corex(n_hidden=n_topics, \n",
    "                       words=words, \n",
    "                       max_iter=100, \n",
    "                       verbose=False, \n",
    "                       seed=1, \n",
    "                       docs = train_data['title'])\n",
    "topic_model.fit(doc_word, words=words,);\n",
    "print('model fit with',n_topics,'topics')"
   ]
  },
  {
   "cell_type": "markdown",
   "metadata": {},
   "source": [
    "## CorEx Output"
   ]
  },
  {
   "cell_type": "markdown",
   "metadata": {},
   "source": [
    "### Topics"
   ]
  },
  {
   "cell_type": "markdown",
   "metadata": {},
   "source": [
    "The CorEx topic model provides functionality for easily accessing the topics. Let's take a look one of the topics."
   ]
  },
  {
   "cell_type": "code",
   "execution_count": 153,
   "metadata": {},
   "outputs": [
    {
     "data": {
      "text/plain": [
       "[('ligament', 0.10538883294873055),\n",
       " ('cruciate', 0.09115700930570515),\n",
       " ('cruciate ligament', 0.08929754222857199),\n",
       " ('anterior cruciate', 0.07843213760946009),\n",
       " ('anterior cruciate ligament', 0.07813684616155614),\n",
       " ('anterior', 0.06852554680462399),\n",
       " ('ligament reconstruction', 0.052908147797851524),\n",
       " ('reconstruction', 0.04827136079796336),\n",
       " ('cruciate ligament reconstruction', 0.042160119589961215),\n",
       " ('rotator', 0.030937846387773155)]"
      ]
     },
     "execution_count": 153,
     "metadata": {},
     "output_type": "execute_result"
    }
   ],
   "source": [
    "# Print a single topic from CorEx topic model\n",
    "topic_model.get_topics(topic=0, n_words=10)"
   ]
  },
  {
   "cell_type": "markdown",
   "metadata": {},
   "source": [
    "The topic words are those with the highest *mutual information* with the topic, rather than those with highest probability within the topic as in LDA. The mutual information with the topic is the number reported in each tuple. Theoretically, mutual information is always positive. If the CorEx output returns a negative mutual information from **`get_topics()`**, then the absolute value of that quantity is the mutual information between the topic and the *absence* of that word.\n",
    "\n",
    "If the column labels have not been specified through **`words`**, then the code will return the column indices for the top words in each topic.\n",
    "\n",
    "We can also retrieve all of the topics at once if we would like."
   ]
  },
  {
   "cell_type": "code",
   "execution_count": 154,
   "metadata": {},
   "outputs": [
    {
     "name": "stdout",
     "output_type": "stream",
     "text": [
      "0: ligament,cruciate,cruciate ligament,anterior cruciate,anterior cruciate ligament,anterior,ligament reconstruction,reconstruction,cruciate ligament reconstruction,rotator\n",
      "1: fixation,fractures,screw,systematic review,systematic,review,plate,locking,screw fixation,distal\n",
      "2: finite,element,finite element,element analysis,finite element analysis,analysis,finite element model,element model,patient specific,specific\n",
      "3: gait,knee,randomized,osteoarthritis,pain,trial,adults,knee osteoarthritis,patients,older\n",
      "4: lumbar,spine,cervical,disc,fusion,intervertebral,cervical spine,lumbar spine,interbody,intervertebral disc\n",
      "5: lower,limb,kinematics,walking,running,muscle,lower limb,joint,ankle,extremity\n",
      "6: injury,cord injury,spinal cord injury,recovery,traumatic,brain injury,head,traumatic brain,functional recovery,ligament injury\n",
      "7: spinal,cord,spinal cord,pedicle,rats,healing,pedicle screw,fracture healing,marrow,bone marrow\n",
      "8: stem,term,stem cells,cells,long term,mesenchymal,long,mesenchymal stem,mesenchymal stem cells,derived\n",
      "9: treadmill,dental,cerebral palsy,palsy,cerebral,transtibial,training,supported,treadmill walking,body weight\n",
      "10: tissue,engineering,tissue engineering,magnetic,rabbit,regeneration,soft tissue,resonance,engineered,magnetic resonance\n",
      "11: corneal,image,corneal properties,intraocular pressure,cross linking,nerve,intraocular,optic,glaucoma,eyes\n",
      "12: aortic,abdominal,extracellular,extracellular matrix,valve,graft,abdominal aortic,aneurysms,wall,aneurysm\n",
      "13: arthroplasty,total,knee arthroplasty,total knee,total knee arthroplasty,total arthroplasty,shoulder arthroplasty,dairy,atomic force,force microscopy\n",
      "14: tendon,repair,achilles,achilles tendon,flexor,cuff repair,tendon repair,rotator cuff repair,flexor tendon,meniscus\n",
      "15: robot,control,swimming,robots,robotic,inspired,energy,fish,design,learning\n",
      "16: mechanical,properties,mechanical properties,strain,computational,properties human,structural,numerical,shear,tissues\n",
      "17: bone,implant,femoral,fracture,implants,femur,proximal,osteoporotic,cortical,trabecular\n",
      "18: motor,cell,mouse,function,skeletal muscle,induced,skeletal,cancer,neural,activity\n",
      "19: time,evolution,real,vertical,implications,real time,drop,primates,morphology,fossil\n",
      "20: based,body,validation,method,inertial,musculoskeletal,data,estimation,motion,simulation\n",
      "21: cartilage,articular,articular cartilage,collagen,matrix,blood,remodeling,growth,mice,expression\n",
      "22: players,soccer,acid,soccer players,rugby,professional,neurons,tennis,football players,hyaluronic\n",
      "23: dynamic,reliability,validity,obstacle,orthosis,post stroke,movement,forward,sclerosis,pattern\n"
     ]
    }
   ],
   "source": [
    "# Print all topics from the CorEx topic model\n",
    "topics = topic_model.get_topics()\n",
    "for n,topic in enumerate(topics):\n",
    "    topic_words,_ = zip(*topic)\n",
    "    print('{}: '.format(n) + ','.join(topic_words))"
   ]
  },
  {
   "cell_type": "markdown",
   "metadata": {},
   "source": [
    "The first topic for the newsgroup data tends to be less coherent than expected because of encodings and other oddities in the newsgroups data.  \n",
    "\n",
    "We can also get the column indices instead of the column labels if necessary."
   ]
  },
  {
   "cell_type": "code",
   "execution_count": 155,
   "metadata": {},
   "outputs": [
    {
     "data": {
      "text/plain": [
       "[(10515, 0.047131743002632086),\n",
       " (10309, 0.036849496970074724),\n",
       " (9825, 0.032768570652688025),\n",
       " (19582, 0.0326222636184159),\n",
       " (15002, 0.027419394184146562),\n",
       " (11656, 0.026173917755879586),\n",
       " (10533, 0.02421707586953285),\n",
       " (9661, 0.019686232896289693),\n",
       " (914, 0.019570895484799206),\n",
       " (6699, 0.019568681094313436)]"
      ]
     },
     "execution_count": 155,
     "metadata": {},
     "output_type": "execute_result"
    }
   ],
   "source": [
    "topic_model.get_topics(topic=5, n_words=10, print_words=False)"
   ]
  },
  {
   "cell_type": "markdown",
   "metadata": {},
   "source": [
    "If we need to directly access the topic assignments for each word, they can be accessed through **`cluster`**."
   ]
  },
  {
   "cell_type": "code",
   "execution_count": 156,
   "metadata": {},
   "outputs": [
    {
     "name": "stdout",
     "output_type": "stream",
     "text": [
      "[12 12 12 ... 21 17  2]\n",
      "(20000,)\n"
     ]
    }
   ],
   "source": [
    "print(topic_model.clusters)\n",
    "print(topic_model.clusters.shape) # m_words"
   ]
  },
  {
   "cell_type": "markdown",
   "metadata": {},
   "source": [
    "### Document Labels"
   ]
  },
  {
   "cell_type": "markdown",
   "metadata": {},
   "source": [
    "As with the topic words, the most probable documents per topic can also be easily accessed. Documents are sorted according to log probabilities which is why the highest probability documents have a score of 0 ($e^0 = 1$) and other documents have negative scores (for example, $e^{-0.5} \\approx 0.6$)."
   ]
  },
  {
   "cell_type": "code",
   "execution_count": 157,
   "metadata": {},
   "outputs": [
    {
     "name": "stdout",
     "output_type": "stream",
     "text": [
      "NOTE: 'docs' not provided to CorEx. Returning top docs as lists of row indices\n",
      "\n",
      "Papers for topic 0\n",
      "14824 lower limb biomechanics single landings following anterior cruciate ligament reconstruction systematic review meta analysis \n",
      "\n",
      "18973 intraoperative fluoroscopy mpfl reconstruction improves accuracy femoral tunnel position \n",
      "\n",
      "4045 selective contribution hamstring muscle anterior cruciate ligament protection tibiofemoral joint stability extension exercise simulation study \n",
      "\n",
      "18952 knotless transosseous equivalent rotator cuff repair improves biomechanical self reinforcement diminishing footprint contact compared medial knotted repair \n",
      "\n",
      "10946 effect knee angle quadriceps strength activation anterior cruciate ligament reconstruction \n",
      "\n",
      "5936 anterior cruciate ligament reconstruction improves subjective ability neuromuscular biomechanics dynamic tasks \n",
      "\n",
      "24969 real time assessment neuromuscular training feedback techniques prevent anterior cruciate ligament injury female athletes \n",
      "\n",
      "5934 knee biomechanics different patellofemoral osteoarthritis anterior cruciate ligament reconstruction \n",
      "\n",
      "18925 biomechanical function anterolateral ligament knee \n",
      "\n",
      "10935 influence rotator cuff tears muscle joint contact loading reverse total shoulder arthroplasty \n",
      "\n"
     ]
    }
   ],
   "source": [
    "# Print a single topic from CorEx topic model\n",
    "topic_n = 0\n",
    "indx = topic_model.get_top_docs(topic=topic_n, n_docs=10, sort_by='log_prob')\n",
    "print(\"\\nPapers for topic\",topic_n)\n",
    "for i in indx:\n",
    "    print(i[0],train_data['title'].iloc[i[0]],'\\n')"
   ]
  },
  {
   "cell_type": "markdown",
   "metadata": {},
   "source": [
    "CorEx is a *discriminative* model, whereas LDA is a *generative* model. This means that while LDA outputs a probability distribution over each document, CorEx instead estimates the probability a document belongs to a topic given that document's words. As a result, the probabilities across topics for a given document do not have to add up to 1. The estimated probabilities of topics for each document can be accessed through **`log_p_y_given_x`** or **`p_y_given_x`**."
   ]
  },
  {
   "cell_type": "code",
   "execution_count": 158,
   "metadata": {},
   "outputs": [
    {
     "name": "stdout",
     "output_type": "stream",
     "text": [
      "(28213, 24)\n"
     ]
    }
   ],
   "source": [
    "print(topic_model.p_y_given_x.shape) # n_docs x k_topics"
   ]
  },
  {
   "cell_type": "markdown",
   "metadata": {},
   "source": [
    "We can also use a softmax to make a binary determination of which documents belong to each topic. These softmax labels can be accessed through **`labels`**."
   ]
  },
  {
   "cell_type": "code",
   "execution_count": 159,
   "metadata": {},
   "outputs": [
    {
     "name": "stdout",
     "output_type": "stream",
     "text": [
      "(28213, 24)\n"
     ]
    }
   ],
   "source": [
    "print(topic_model.labels.shape) # n_docs x k_topics"
   ]
  },
  {
   "cell_type": "code",
   "execution_count": 161,
   "metadata": {},
   "outputs": [],
   "source": [
    "corex_pred_data = pd.DataFrame(topic_model.p_y_given_x)\n"
   ]
  },
  {
   "cell_type": "markdown",
   "metadata": {},
   "source": [
    "Since CorEx does not prescribe a probability distribution of topics over each document, this means that a document could possibly belong to no topics (all 0's across topics in **`labels`**) or all topics (all 1's across topics in **`labels`**)."
   ]
  },
  {
   "cell_type": "markdown",
   "metadata": {},
   "source": [
    "## Total Correlation and Model Selection"
   ]
  },
  {
   "cell_type": "markdown",
   "metadata": {},
   "source": [
    "### Overall TC"
   ]
  },
  {
   "cell_type": "markdown",
   "metadata": {},
   "source": [
    "Total correlation is the measure which CorEx maximize when constructing the topic model. It can be accessed through **`tc`** and is reported in nats."
   ]
  },
  {
   "cell_type": "code",
   "execution_count": 168,
   "metadata": {},
   "outputs": [
    {
     "name": "stdout",
     "output_type": "stream",
     "text": [
      "10.438419612899656\n",
      "0.4349341505374857\n"
     ]
    }
   ],
   "source": [
    "print(topic_model.tc)\n",
    "\n",
    "print(topic_model.tc/n_topics)"
   ]
  },
  {
   "cell_type": "markdown",
   "metadata": {},
   "source": [
    "**Model selection:** CorEx starts its algorithm with a random initialization, and so different runs can result in different topic models. One way of finding a better topic model is to restart the CorEx algorithm several times and take the run that has the highest TC value (i.e. the run that produces topics that are most informative about the documents)."
   ]
  },
  {
   "cell_type": "markdown",
   "metadata": {},
   "source": [
    "### Topic TC"
   ]
  },
  {
   "cell_type": "markdown",
   "metadata": {},
   "source": [
    "The overall total correlation is the sum of the total correlation per each topic. These can be accessed through **`tcs`**. For an unsupervised CorEx topic model, the topics are always sorted from high to low according to their TC. For an anchored CorEx topic model, the topics are not sorted, and are outputted such that the anchored topics come first."
   ]
  },
  {
   "cell_type": "code",
   "execution_count": 170,
   "metadata": {},
   "outputs": [
    {
     "data": {
      "text/plain": [
       "(24,)"
      ]
     },
     "execution_count": 170,
     "metadata": {},
     "output_type": "execute_result"
    }
   ],
   "source": [
    "topic_model.tcs.shape# k_topics"
   ]
  },
  {
   "cell_type": "code",
   "execution_count": 171,
   "metadata": {},
   "outputs": [
    {
     "name": "stdout",
     "output_type": "stream",
     "text": [
      "10.438419612899656\n",
      "10.438419612899656\n"
     ]
    }
   ],
   "source": [
    "print(np.sum(topic_model.tcs))\n",
    "print(topic_model.tc)"
   ]
  },
  {
   "cell_type": "markdown",
   "metadata": {},
   "source": [
    "**Selecting number of topics:** one way to choose the number of topics is to observe the distribution of TCs for each topic to see how much each additional topic contributes to the overall TC. We should keep adding topics until additional topics do not significantly contribute to the overall TC. This is similar to choosing a cutoff eigenvalue when doing topic modeling via LSA."
   ]
  },
  {
   "cell_type": "code",
   "execution_count": 172,
   "metadata": {
    "scrolled": false
   },
   "outputs": [
    {
     "data": {
      "image/png": "[encoded data removed]",
      "text/plain": [
       "<Figure size 720x360 with 1 Axes>"
      ]
     },
     "metadata": {
      "needs_background": "light"
     },
     "output_type": "display_data"
    }
   ],
   "source": [
    "plt.figure(figsize=(10,5))\n",
    "plt.bar(range(topic_model.tcs.shape[0]), topic_model.tcs, color='#4e79a7', width=0.5)\n",
    "plt.xlabel('Topic', fontsize=16)\n",
    "plt.ylabel('Total Correlation (nats)', fontsize=16);"
   ]
  },
  {
   "cell_type": "markdown",
   "metadata": {},
   "source": [
    "We see the first topic is much more informative than the other topics. Given that we suspect that this topic is picking up on image encodings (as given by \"dsl\" and \"n3jxp\" in the topic) and other boilerplate text (as given by the high TC and lack of coherence of the rest of the topic), we could consider doing additional investigation and preprocessing to help ensure that the CorEx topic model does not pick up on these patterns which are not insightful."
   ]
  },
  {
   "cell_type": "markdown",
   "metadata": {},
   "source": [
    "### Pointwise Document TC"
   ]
  },
  {
   "cell_type": "markdown",
   "metadata": {},
   "source": [
    "We can decompose total correlation further. The topic correlation is the average of the pointwise total correlations for each individual document. The pointwise total correlations can be accessed through **`log_z`**."
   ]
  },
  {
   "cell_type": "code",
   "execution_count": 173,
   "metadata": {},
   "outputs": [
    {
     "data": {
      "text/plain": [
       "(28213, 24)"
      ]
     },
     "execution_count": 173,
     "metadata": {},
     "output_type": "execute_result"
    }
   ],
   "source": [
    "topic_model.log_z.shape # n_docs x k_topics"
   ]
  },
  {
   "cell_type": "code",
   "execution_count": 174,
   "metadata": {},
   "outputs": [
    {
     "name": "stdout",
     "output_type": "stream",
     "text": [
      "[0.94210813 0.7848585  0.74835251 0.62308576 0.57579572 0.54959945\n",
      " 0.50664567 0.48175795 0.4597337  0.40517228 0.40305948 0.39916152\n",
      " 0.38858246 0.37696632 0.37368163 0.3372101  0.30974278 0.30194171\n",
      " 0.29289978 0.2825093  0.25935351 0.25121712 0.21516837 0.16981587]\n",
      "[0.94210813 0.7848585  0.74835251 0.62308576 0.57579572 0.54959945\n",
      " 0.50664567 0.48175795 0.4597337  0.40517228 0.40305948 0.39916152\n",
      " 0.38858246 0.37696632 0.37368163 0.3372101  0.30974278 0.30194171\n",
      " 0.29289978 0.2825093  0.25935351 0.25121712 0.21516837 0.16981587]\n"
     ]
    }
   ],
   "source": [
    "print(np.mean(topic_model.log_z, axis=0))\n",
    "print(topic_model.tcs)"
   ]
  },
  {
   "cell_type": "markdown",
   "metadata": {},
   "source": [
    "The pointwise total correlations in **`log_z`** represent the correlations within an individual document explained by a particular topic. These correlations have been used to measure how \"surprising\" documents are with respect to given topics (see references below)."
   ]
  },
  {
   "cell_type": "markdown",
   "metadata": {},
   "source": [
    "## Hierarchical Topic Models"
   ]
  },
  {
   "cell_type": "markdown",
   "metadata": {},
   "source": [
    "The **`labels`** attribute gives the binary topic expressions for each document and each topic. We can use this output as input to another CorEx topic model to get latent representations of the topics themselves. This yields a hierarchical CorEx topic model. Like the first layer of the topic model, one can determine the number of latent variables to add in higher layers through examination of the topic TCs."
   ]
  },
  {
   "cell_type": "code",
   "execution_count": 80,
   "metadata": {},
   "outputs": [
    {
     "name": "stdout",
     "output_type": "stream",
     "text": [
      "WARNING: Some words never appear (or always appear)\n"
     ]
    }
   ],
   "source": [
    "# Train a second layer to the topic model\n",
    "tm_layer2 = ct.Corex(n_hidden=10)\n",
    "tm_layer2.fit(topic_model.labels);\n",
    "\n",
    "# Train a third layer to the topic model\n",
    "tm_layer3 = ct.Corex(n_hidden=1)\n",
    "tm_layer3.fit(tm_layer2.labels);"
   ]
  },
  {
   "cell_type": "markdown",
   "metadata": {},
   "source": [
    "If you have `graphviz` installed, then you can output visualizations of the hierarchial topic model to your current working directory. One can also create custom visualizations of the hierarchy by properly making use of the **`labels`** attribute of each layer."
   ]
  },
  {
   "cell_type": "code",
   "execution_count": 94,
   "metadata": {},
   "outputs": [
    {
     "name": "stdout",
     "output_type": "stream",
     "text": [
      "weight threshold is 0.000000 for graph with max of 200.000000 edges \n",
      "non-isolated nodes,edges 35 36\n",
      "non-isolated nodes,edges 35 34\n",
      "/Users/ryanalcantara/Buff Drive/Biomech_Lit_Up/literature_update/Construct_Models/tests/d3_files/force.html topic-model-example/graphs/force.html\n"
     ]
    },
    {
     "data": {
      "text/plain": [
       "'topic-model-example/graphs/graph_prune_200.dot.pdf'"
      ]
     },
     "execution_count": 94,
     "metadata": {},
     "output_type": "execute_result"
    }
   ],
   "source": [
    "# import unicode\n",
    "vis_hierarchy([topic_model, tm_layer2, tm_layer3], column_label=words, max_edges=200, prefix='topic-model-example')\n",
    "\n",
    "from graphviz import Source\n",
    "path = 'topic-model-example/graphs/graph_prune_200.dot'\n",
    "s = Source.from_file(path)\n",
    "s.view()"
   ]
  },
  {
   "cell_type": "markdown",
   "metadata": {},
   "source": [
    "## Anchoring for Semi-Supervised Topic Modeling"
   ]
  },
  {
   "cell_type": "markdown",
   "metadata": {},
   "source": [
    "Anchored CorEx is an extension of CorEx that allows the \"anchoring\" of words to topics. When anchoring a word to a topic, CorEx is trying to maximize the mutual information between that word and the anchored topic. So, anchoring provides a way to guide the topic model towards specific subsets of words that the user would like to explore.  \n",
    "\n",
    "The anchoring mechanism is flexible, and so there are many possibilities of anchoring. We explored the following types of anchoring in our TACL paper:\n",
    "\n",
    "1. Anchoring a single set of words to a single topic. This can help promote a topic that did not naturally emerge when running an unsupervised instance of the CorEx topic model. For example, one might anchor words like \"snow,\" \"cold,\" and \"avalanche\" to a topic if one suspects there should be a snow avalanche topic within a set of disaster relief articles.\n",
    "\n",
    "2. Anchoring single sets of words to multiple topics. This can help find different aspects of a topic that may be discussed in several different contexts. For example, one might anchor \"protest\" to three topics and \"riot\" to three other topics to understand different framings that arise from tweets about political protests.\n",
    "\n",
    "3. Anchoring different sets of words to multiple topics. This can help enforce topic separability if there appear to be chimera topics. For example, one might anchor \"mountain,\" \"Bernese,\" and \"dog\" to one topic and \"mountain,\" \"rocky,\" and \"colorado\" to another topic to help separate topics that merge discussion of Bernese Mountain Dogs and the Rocky Mountains.\n",
    "\n",
    "\n",
    "We'll demonstrate how to anchor words to the the CorEx topic model and how to develop other anchoring strategies."
   ]
  },
  {
   "cell_type": "code",
   "execution_count": 187,
   "metadata": {},
   "outputs": [],
   "source": [
    "anchor_list_list = anchor_list.to_dict('list')\n",
    "# anchor_list.iloc[0]['top_words']\n",
    "anchor_words = anchor_list['top_words']"
   ]
  },
  {
   "cell_type": "code",
   "execution_count": 188,
   "metadata": {},
   "outputs": [
    {
     "data": {
      "text/plain": [
       "0                   [bone, fracture, model]\n",
       "1               [aortic, valve, properties]\n",
       "2                 [cell, cells, mechanical]\n",
       "3         [performance, morphology, muscle]\n",
       "4               [analysis, implant, finite]\n",
       "5                  [work, lifting, effects]\n",
       "6     [evolution, implications, morphology]\n",
       "7                     [gait, walking, knee]\n",
       "8                  [knee, cartilage, joint]\n",
       "9                 [analysis, based, method]\n",
       "10                 [model, finite, element]\n",
       "11      [muscle, skeletal, skeletal muscle]\n",
       "12              [spinal, cord, spinal cord]\n",
       "13                [lumbar, spine, cervical]\n",
       "14        [fixation, fractures, comparison]\n",
       "15                 [foot, prosthesis, knee]\n",
       "16                 [training, spinal, gait]\n",
       "17                 [robot, control, robots]\n",
       "18          [performance, effects, players]\n",
       "19             [ligament, tendon, cruciate]\n",
       "20         [tissue, properties, mechanical]\n",
       "21                   [impact, head, injury]\n",
       "22                [canine, dairy, lameness]\n",
       "23          [corneal, properties, pressure]\n",
       "Name: top_words, dtype: object"
      ]
     },
     "execution_count": 188,
     "metadata": {},
     "output_type": "execute_result"
    }
   ],
   "source": [
    "# Anchor one word to the first topic\n",
    "anchor_words\n"
   ]
  },
  {
   "cell_type": "code",
   "execution_count": 210,
   "metadata": {},
   "outputs": [
    {
     "name": "stdout",
     "output_type": "stream",
     "text": [
      "anchored model fit\n"
     ]
    }
   ],
   "source": [
    "\n",
    "anchored_topic_model = ct.Corex(n_hidden=n_topics, seed=2) \n",
    "anchored_topic_model.fit(doc_word, \n",
    "                         words=words, \n",
    "                         anchors=anchor_words, \n",
    "                         anchor_strength=6);\n",
    "print('anchored model fit')"
   ]
  },
  {
   "cell_type": "markdown",
   "metadata": {},
   "source": [
    "This anchors the single word \"nasa\" to the first topic."
   ]
  },
  {
   "cell_type": "code",
   "execution_count": 211,
   "metadata": {},
   "outputs": [
    {
     "name": "stdout",
     "output_type": "stream",
     "text": [
      "New topic: model,bone,fracture\n",
      "[2.079 1.284 1.549 1.158 2.047 1.16  0.838 1.766 1.539 1.634 2.417 1.267\n",
      " 2.597 1.482 2.035 1.52  1.685 1.056 1.278 2.343 1.577 1.335 0.542 1.273]\n",
      "37.46194590359856\n"
     ]
    },
    {
     "data": {
      "image/png": "[encoded data removed]",
      "text/plain": [
       "<Figure size 720x360 with 1 Axes>"
      ]
     },
     "metadata": {
      "needs_background": "light"
     },
     "output_type": "display_data"
    }
   ],
   "source": [
    "topic_words,_ = zip(*anchored_topic_model.get_topics(topic=0))\n",
    "print('New topic: ' + ','.join(topic_words[0:3]))\n",
    "print(np.round(anchored_topic_model.tcs,3))\n",
    "plt.figure(figsize=(10,5))\n",
    "plt.bar(range(anchored_topic_model.tcs.shape[0]), anchored_topic_model.tcs, color='#4e79a7', width=0.5)\n",
    "plt.xlabel('Topic', fontsize=16)\n",
    "plt.ylabel('Total Correlation (nats)', fontsize=16);\n",
    "print(anchored_topic_model.tc)"
   ]
  },
  {
   "cell_type": "code",
   "execution_count": 213,
   "metadata": {},
   "outputs": [
    {
     "name": "stdout",
     "output_type": "stream",
     "text": [
      "Model/Vectorizer Saved\n"
     ]
    }
   ],
   "source": [
    "from sklearn.externals import joblib\n",
    "joblib.dump(anchored_topic_model, '../Models/LDA/anchored_topic_model.pkl')\n",
    "joblib.dump(vectorizer, '../Models/LDA/anchored_topic_vectorizer.pkl')\n",
    "\n",
    "print (\"Model/Vectorizer Saved\")"
   ]
  },
  {
   "cell_type": "markdown",
   "metadata": {},
   "source": [
    "We can anchor multiple groups of words to multiple topics as well."
   ]
  },
  {
   "cell_type": "code",
   "execution_count": 195,
   "metadata": {},
   "outputs": [
    {
     "name": "stdout",
     "output_type": "stream",
     "text": [
      "0: model,bone,fracture,healing,cortical bone,fracture healing\n",
      "1: properties,aortic,valve,mechanical properties,properties human,abdominal aortic\n",
      "2: mechanical,cells,cell,stem,stem cells,mesenchymal\n",
      "3: muscle,performance,morphology,cross country,swimming performance,country\n",
      "4: analysis,finite,implant,meta analysis,meta,gait analysis\n",
      "5: effects,work,lifting,effects different,effects bone,immediate effects\n",
      "6: implications,morphology,evolution,feeding,fossil,evolutionary\n",
      "7: gait,knee,walking,ground reaction,ground,reaction\n",
      "8: knee,joint,cartilage,osteoarthritis,articular cartilage,articular\n",
      "9: analysis,based,method,image,novel method,image based\n",
      "10: model,finite,element,finite element,element analysis,finite element analysis\n",
      "11: muscle,skeletal,skeletal muscle,muscle activity,muscle activation,activation\n",
      "12: spinal,cord,spinal cord,cord injury,spinal cord injury,recovery\n",
      "13: lumbar,spine,cervical,disc,fusion,intervertebral\n",
      "14: comparison,fixation,fractures,screw,plate,locking\n",
      "15: knee,foot,prosthesis,knee osteoarthritis,knee joint,knee arthroplasty\n",
      "16: gait,spinal,training,randomized,trial,parkinson\n",
      "17: control,robot,robots,central pattern,caenorhabditis,caenorhabditis elegans\n",
      "18: effects,performance,players,baseball,soccer,soccer players\n",
      "19: ligament,tendon,cruciate,cruciate ligament,anterior cruciate,anterior cruciate ligament\n",
      "20: properties,mechanical,tissue,tissue engineering,soft tissue,engineering\n",
      "21: injury,impact,head,brain injury,traumatic brain,traumatic\n",
      "22: canine,dairy,lameness,factors,risk factors,magnetic resonance\n",
      "23: properties,pressure,corneal,optical coherence,coherence,intraocular pressure\n"
     ]
    }
   ],
   "source": [
    "for n in range(len(anchor_words)):\n",
    "    topic_words,_ = zip(*anchored_topic_model.get_topics(topic=n))\n",
    "    print('{}: '.format(n) + ','.join(topic_words[0:6]))"
   ]
  },
  {
   "cell_type": "markdown",
   "metadata": {},
   "source": [
    "**Choosing anchor strength:** the anchor strength controls how much weight CorEx puts towards maximizing the mutual information between the anchor words and their respective topics. Anchor strength should always be set at a value *greater than* 1, since setting anchor strength between 0 and 1 only recovers the unsupervised CorEx objective. Empirically, setting anchor strength from 1.5-3 seems to nudge the topic model towards the anchor words. Setting anchor strength greater than 5 is strongly enforcing that the CorEx topic model find a topic associated with the anchor words.\n",
    "\n",
    "We encourage users to experiment with the anchor strength and determine what values are best for their needs."
   ]
  },
  {
   "cell_type": "markdown",
   "metadata": {},
   "source": [
    "## Further Reading"
   ]
  },
  {
   "cell_type": "markdown",
   "metadata": {},
   "source": [
    "Our TACL paper details the theory of the CorEx topic model, its sparsity optimization, anchoring via the information bottleneck, comparisons to LDA, and anchoring experiments. The two papers from Greg Ver Steeg and Aram Galstyan develop the CorEx theory in general and provide further motivation and details of the underlying CorEx mechanisms. Hodas et al. demonstrated early CorEx topic model results and investigated an application of pointwise total correlations to quantify \"surprising\" documents.\n",
    "\n",
    "1. [Anchored Correlation Explanation: Topic Modeling with Minimal Domain Knowledge](https://www.transacl.org/ojs/index.php/tacl/article/view/1244), Gallagher et al., TACL 2017.\n",
    "\n",
    "2. [Discovering Structure in High-Dimensional Data Through Correlation Explanation](https://arxiv.org/abs/1406.1222), Ver Steeg and Galstyan, NIPS 2014. \n",
    "\n",
    "3. [Maximally Informative Hierarchical Representions of High-Dimensional Data](https://arxiv.org/abs/1410.7404), Ver Steeg and Galstyan, AISTATS 2015.\n",
    "\n",
    "4. [Disentangling the Lexicons of Disaster Response in Twitter](https://dl.acm.org/citation.cfm?id=2741728), Hodas et al., WWW 2015."
   ]
  }
 ],
 "metadata": {
  "kernelspec": {
   "display_name": "Python 3",
   "language": "python",
   "name": "python3"
  },
  "language_info": {
   "codemirror_mode": {
    "name": "ipython",
    "version": 3
   },
   "file_extension": ".py",
   "mimetype": "text/x-python",
   "name": "python",
   "nbconvert_exporter": "python",
   "pygments_lexer": "ipython3",
   "version": "3.6.8"
  }
 },
 "nbformat": 4,
 "nbformat_minor": 1
}
