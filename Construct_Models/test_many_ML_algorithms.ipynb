{
 "cells": [
  {
   "cell_type": "code",
   "execution_count": 1,
   "metadata": {},
   "outputs": [],
   "source": [
    "import numpy as np\n",
    "import pandas as pd\n",
    "import re\n",
    "from sklearn.feature_extraction.text import TfidfVectorizer"
   ]
  },
  {
   "cell_type": "markdown",
   "metadata": {},
   "source": [
    "## Read in Training Data"
   ]
  },
  {
   "cell_type": "code",
   "execution_count": 2,
   "metadata": {},
   "outputs": [
    {
     "name": "stdout",
     "output_type": "stream",
     "text": [
      "Index(['V0', 'topic', 'authors', 'title', 'journal', 'year', 'vol_issue',\n",
      "       'doi'],\n",
      "      dtype='object')\n"
     ]
    }
   ],
   "source": [
    "data = pd.read_csv('RYANDATA_filt.csv')\n",
    "\n",
    "data.columns = ['V0', 'topic', 'authors','title','journal','year','vol_issue','doi']\n",
    "print(data.columns)"
   ]
  },
  {
   "cell_type": "code",
   "execution_count": 3,
   "metadata": {},
   "outputs": [],
   "source": [
    "papers = pd.DataFrame(data['title'])\n",
    "topic = pd.DataFrame(data['topic'])\n",
    "author = pd.DataFrame(data['authors'])"
   ]
  },
  {
   "cell_type": "code",
   "execution_count": 4,
   "metadata": {},
   "outputs": [
    {
     "name": "stdout",
     "output_type": "stream",
     "text": [
      "37183\n",
      "37183\n"
     ]
    },
    {
     "data": {
      "text/html": [
       "<div>\n",
       "<style scoped>\n",
       "    .dataframe tbody tr th:only-of-type {\n",
       "        vertical-align: middle;\n",
       "    }\n",
       "\n",
       "    .dataframe tbody tr th {\n",
       "        vertical-align: top;\n",
       "    }\n",
       "\n",
       "    .dataframe thead th {\n",
       "        text-align: right;\n",
       "    }\n",
       "</style>\n",
       "<table border=\"1\" class=\"dataframe\">\n",
       "  <thead>\n",
       "    <tr style=\"text-align: right;\">\n",
       "      <th></th>\n",
       "      <th>title</th>\n",
       "      <th>topic</th>\n",
       "    </tr>\n",
       "  </thead>\n",
       "  <tbody>\n",
       "    <tr>\n",
       "      <th>0</th>\n",
       "      <td>Preparation of adenosine-loaded electrospun na...</td>\n",
       "      <td>BONE</td>\n",
       "    </tr>\n",
       "    <tr>\n",
       "      <th>1</th>\n",
       "      <td>The adaption of the bony microstructure of the...</td>\n",
       "      <td>BONE</td>\n",
       "    </tr>\n",
       "    <tr>\n",
       "      <th>2</th>\n",
       "      <td>Effect of caffeine on ovariectomy-induced oste...</td>\n",
       "      <td>BONE</td>\n",
       "    </tr>\n",
       "    <tr>\n",
       "      <th>3</th>\n",
       "      <td>The effect of formalin preservation time and t...</td>\n",
       "      <td>BONE</td>\n",
       "    </tr>\n",
       "    <tr>\n",
       "      <th>4</th>\n",
       "      <td>Accurate and efficient plate and rod microfini...</td>\n",
       "      <td>BONE</td>\n",
       "    </tr>\n",
       "  </tbody>\n",
       "</table>\n",
       "</div>"
      ],
      "text/plain": [
       "                                               title topic\n",
       "0  Preparation of adenosine-loaded electrospun na...  BONE\n",
       "1  The adaption of the bony microstructure of the...  BONE\n",
       "2  Effect of caffeine on ovariectomy-induced oste...  BONE\n",
       "3  The effect of formalin preservation time and t...  BONE\n",
       "4  Accurate and efficient plate and rod microfini...  BONE"
      ]
     },
     "execution_count": 4,
     "metadata": {},
     "output_type": "execute_result"
    }
   ],
   "source": [
    "print(len(papers))\n",
    "print(len(topic))\n",
    "data[['title','topic']].head()"
   ]
  },
  {
   "cell_type": "code",
   "execution_count": 5,
   "metadata": {},
   "outputs": [
    {
     "data": {
      "text/plain": [
       "array(['BONE', 'CARDIOVASCULAR/CARDIOPULMONARY', 'CELLULAR/SUBCELLULAR',\n",
       "       'COMPARATIVE', 'DENTAL/ORAL/FACIAL', 'ERGONOMICS',\n",
       "       'EVOLUTION/ANTHROPOLOGY', 'GAIT/LOCOMOTION', 'JOINT/CARTILAGE',\n",
       "       'METHODS', 'MODELING', 'MUSCLE', 'NEURAL', 'ORTHOPAEDICS/SPINE',\n",
       "       'ORTHOPAEDICS/SURGERY', 'POSTURE/BALANCE', 'REHABILITATION',\n",
       "       'SPORT/EXERCISE', 'TENDON/LIGAMENT', 'TISSUE/BIOMATERIAL',\n",
       "       'TRAUMA/IMPACTTESTING', 'VETERINARY/AGRICULTURAL',\n",
       "       'VISUAL/VESTIBULAR/EYE', 'HAND/FINGER/FOOT/TOE',\n",
       "       'PROSTHETICS/ORTHOTICS', 'UNIQUETOPIC', 'ROBOTICS'], dtype=object)"
      ]
     },
     "execution_count": 5,
     "metadata": {},
     "output_type": "execute_result"
    }
   ],
   "source": [
    "topic['topic'].unique()"
   ]
  },
  {
   "cell_type": "code",
   "execution_count": 6,
   "metadata": {},
   "outputs": [],
   "source": [
    "from sklearn.preprocessing import LabelEncoder\n",
    "\n",
    "feat = ['topic']\n",
    "for x in feat:\n",
    "    le = LabelEncoder()\n",
    "    le.fit(list(topic[x].values))\n",
    "    topic[x] = le.transform(list(topic[x]))"
   ]
  },
  {
   "cell_type": "code",
   "execution_count": 7,
   "metadata": {
    "scrolled": true
   },
   "outputs": [
    {
     "data": {
      "text/plain": [
       "array([ 0,  1,  2,  3,  4,  5,  6,  7,  9, 10, 11, 12, 13, 14, 15, 16, 18,\n",
       "       20, 21, 22, 23, 25, 26,  8, 17, 24, 19])"
      ]
     },
     "execution_count": 7,
     "metadata": {},
     "output_type": "execute_result"
    }
   ],
   "source": [
    "topic['topic'].unique()"
   ]
  },
  {
   "cell_type": "code",
   "execution_count": 8,
   "metadata": {},
   "outputs": [
    {
     "data": {
      "text/plain": [
       "'BONE'"
      ]
     },
     "execution_count": 8,
     "metadata": {},
     "output_type": "execute_result"
    }
   ],
   "source": [
    "le.inverse_transform([0])[0]"
   ]
  },
  {
   "cell_type": "code",
   "execution_count": 9,
   "metadata": {},
   "outputs": [
    {
     "name": "stdout",
     "output_type": "stream",
     "text": [
      "0    Preparation of adenosine-loaded electrospun na...\n",
      "1    The adaption of the bony microstructure of the...\n",
      "2    Effect of caffeine on ovariectomy-induced oste...\n",
      "3    The effect of formalin preservation time and t...\n",
      "4    Accurate and efficient plate and rod microfini...\n",
      "Name: everything, dtype: object\n"
     ]
    }
   ],
   "source": [
    "data['everything'] = pd.DataFrame(data['title'])\n",
    "print(data['everything'].head(5))"
   ]
  },
  {
   "cell_type": "markdown",
   "metadata": {},
   "source": [
    "## Clean up titles"
   ]
  },
  {
   "cell_type": "code",
   "execution_count": 10,
   "metadata": {},
   "outputs": [
    {
     "data": {
      "text/plain": [
       "0    Preparation adenosine-loaded electrospun nanof...\n",
       "1    adaption bony microstructure human glenoid cav...\n",
       "2    Effect caffeine ovariectomy-induced osteoporos...\n",
       "3    effect formalin preservation time temperature ...\n",
       "4    Accurate efficient plate rod microfinite eleme...\n",
       "Name: everything, dtype: object"
      ]
     },
     "execution_count": 10,
     "metadata": {},
     "output_type": "execute_result"
    }
   ],
   "source": [
    "def change(t):\n",
    "    t = t.split()\n",
    "    return ' '.join([(i) for (i) in t if i not in stop])\n",
    "# import nltk\n",
    "# nltk.download('stopwords')\n",
    "from nltk.corpus import stopwords\n",
    "stop = list(stopwords.words('english'))\n",
    "stop.append('The')\n",
    "stop.append('An')\n",
    "stop.append('A')\n",
    "stop.append('Do')\n",
    "stop.append('Is')\n",
    "stop.append('In')\n",
    "\n",
    "data['everything'].apply(change).head()"
   ]
  },
  {
   "cell_type": "markdown",
   "metadata": {},
   "source": [
    "## Vectorize words in titles"
   ]
  },
  {
   "cell_type": "code",
   "execution_count": 11,
   "metadata": {},
   "outputs": [
    {
     "data": {
      "text/plain": [
       "(37183, 55219)"
      ]
     },
     "execution_count": 11,
     "metadata": {},
     "output_type": "execute_result"
    }
   ],
   "source": [
    "from sklearn.feature_extraction.text import TfidfVectorizer\n",
    "vectorizer = TfidfVectorizer(min_df=2, #min occurances needed\n",
    "                             max_df=0.75, #max occuraces allowed (%)\n",
    "                             ngram_range=(1,2), #size range of grams (1-2 words)\n",
    "                             strip_accents='unicode',\n",
    "                             lowercase =True,\n",
    "                             analyzer='word', \n",
    "                             token_pattern=r'\\w+', \n",
    "                             use_idf=True, \n",
    "                             smooth_idf=True, \n",
    "                             sublinear_tf=True, \n",
    "                             stop_words = 'english')\n",
    "vectors = vectorizer.fit_transform(data['everything'])\n",
    "vectors.shape"
   ]
  },
  {
   "cell_type": "markdown",
   "metadata": {},
   "source": [
    "## Split Data"
   ]
  },
  {
   "cell_type": "code",
   "execution_count": 12,
   "metadata": {},
   "outputs": [
    {
     "name": "stdout",
     "output_type": "stream",
     "text": [
      "(29746, 55219)\n",
      "(29746,)\n",
      "(7437, 55219)\n",
      "(7437,)\n"
     ]
    },
    {
     "data": {
      "text/plain": [
       "pandas.core.frame.DataFrame"
      ]
     },
     "execution_count": 12,
     "metadata": {},
     "output_type": "execute_result"
    }
   ],
   "source": [
    "from sklearn.naive_bayes import MultinomialNB\n",
    "from sklearn import metrics\n",
    "from sklearn.model_selection import StratifiedKFold, cross_val_score, train_test_split\n",
    "# from sklearn.model_selection import train_test_split\n",
    "\n",
    "\n",
    "X_train, X_test, y_train, y_test = train_test_split(vectors,\n",
    "                                                    topic['topic'],\n",
    "                                                    test_size=0.2,\n",
    "                                                    random_state = 0)\n",
    "\n",
    "print (X_train.shape)\n",
    "print (y_train.shape)\n",
    "print (X_test.shape)\n",
    "print (y_test.shape)\n",
    "\n",
    "type(papers)"
   ]
  },
  {
   "cell_type": "markdown",
   "metadata": {},
   "source": [
    "# Test Models:"
   ]
  },
  {
   "cell_type": "markdown",
   "metadata": {},
   "source": [
    "## Multinomial Naive Bayes"
   ]
  },
  {
   "cell_type": "code",
   "execution_count": 13,
   "metadata": {},
   "outputs": [
    {
     "name": "stdout",
     "output_type": "stream",
     "text": [
      "0.4643587532359619\n",
      "0.5749630227242167\n"
     ]
    },
    {
     "name": "stderr",
     "output_type": "stream",
     "text": [
      "/anaconda3/lib/python3.6/site-packages/sklearn/metrics/classification.py:1143: UndefinedMetricWarning: F-score is ill-defined and being set to 0.0 in labels with no predicted samples.\n",
      "  'precision', 'predicted', average, warn_for)\n"
     ]
    }
   ],
   "source": [
    "mnb = MultinomialNB(alpha=.45)\n",
    "mnb.fit(X_train, y_train)\n",
    "pred = mnb.predict(X_test)\n",
    "print (metrics.f1_score(y_test, pred, average='macro'))\n",
    "print (metrics.accuracy_score(y_test, pred))"
   ]
  },
  {
   "cell_type": "markdown",
   "metadata": {},
   "source": [
    "## Logistic Regression"
   ]
  },
  {
   "cell_type": "code",
   "execution_count": 14,
   "metadata": {},
   "outputs": [
    {
     "name": "stdout",
     "output_type": "stream",
     "text": [
      "0.6042085894736949\n",
      "0.6447492268387791\n"
     ]
    }
   ],
   "source": [
    "from sklearn import linear_model\n",
    "logreg = linear_model.LogisticRegression(solver= 'sag',max_iter=500,random_state=0, multi_class='multinomial')\n",
    "logreg.fit(X_train, y_train)\n",
    "pred = logreg.predict(X_test)\n",
    "print (metrics.f1_score(y_test, pred, average='macro'))\n",
    "print (metrics.accuracy_score(y_test, pred))"
   ]
  },
  {
   "cell_type": "markdown",
   "metadata": {},
   "source": [
    "## Stochastic Gradient Descent (SGD) learning"
   ]
  },
  {
   "cell_type": "code",
   "execution_count": 15,
   "metadata": {},
   "outputs": [
    {
     "name": "stdout",
     "output_type": "stream",
     "text": [
      "0.6075191510071086\n",
      "0.6513379050692484\n"
     ]
    }
   ],
   "source": [
    "from sklearn.linear_model import SGDClassifier\n",
    "sgd = SGDClassifier(max_iter=500, random_state=0, tol = 1e-3)\n",
    "sgd.fit(X_train, y_train) \n",
    "pred = sgd.predict(X_test)\n",
    "print (metrics.f1_score(y_test, pred, average='macro'))\n",
    "print (metrics.accuracy_score(y_test, pred))"
   ]
  },
  {
   "cell_type": "markdown",
   "metadata": {},
   "source": [
    "## Linear SVC"
   ]
  },
  {
   "cell_type": "code",
   "execution_count": 16,
   "metadata": {},
   "outputs": [
    {
     "name": "stdout",
     "output_type": "stream",
     "text": [
      "0.6299619006421074\n",
      "0.6576576576576577\n"
     ]
    }
   ],
   "source": [
    "from sklearn.svm import LinearSVC\n",
    "lsvc =LinearSVC()\n",
    "lsvc.fit(X_train, y_train) \n",
    "pred = lsvc.predict(X_test)\n",
    "print (metrics.f1_score(y_test, pred, average='macro'))\n",
    "print (metrics.accuracy_score(y_test, pred))"
   ]
  },
  {
   "cell_type": "markdown",
   "metadata": {},
   "source": [
    "# Plot Confusion Matrix "
   ]
  },
  {
   "cell_type": "code",
   "execution_count": 17,
   "metadata": {
    "scrolled": true
   },
   "outputs": [
    {
     "data": {
      "text/plain": [
       "<Figure size 1500x1500 with 2 Axes>"
      ]
     },
     "metadata": {},
     "output_type": "display_data"
    }
   ],
   "source": [
    "import matplotlib.pyplot as plt\n",
    "import seaborn as sns\n",
    "\n",
    "data['topic_id'] = data['topic'].factorize()[0]\n",
    "topic_id_df = data[['topic',\n",
    "                  'topic_id']].drop_duplicates().sort_values('topic_id')\n",
    "topic_to_id = dict(topic_id_df.values)\n",
    "id_to_topic = dict(topic_id_df[['topic_id','topic']].values)\n",
    "\n",
    "model = lsvc\n",
    "\n",
    "model.fit(X_train, y_train)\n",
    "y_pred = model.predict(X_test)\n",
    "from sklearn.metrics import confusion_matrix\n",
    "plt.rc('xtick',labelsize = 20)\n",
    "plt.rc('ytick',labelsize = 20)\n",
    "conf_mat = confusion_matrix(y_test, y_pred)\n",
    "conf_mat_rowsum = [sum(row) for row in conf_mat]\n",
    "conf_mat_perc = conf_mat / conf_mat_rowsum\n",
    "fig, ax = plt.subplots(figsize=(15,15))\n",
    "sns.set(font_scale=1.2) #font size multiplier\n",
    "sns.heatmap(conf_mat_perc, annot=True, fmt='.0%', cmap = 'magma', annot_kws={\"size\": 12},\n",
    "            xticklabels=topic_id_df.topic.values, yticklabels=topic_id_df.topic.values)\n",
    "\n",
    "plt.ylabel('Actual',fontsize = 20)\n",
    "plt.xlabel('Predicted',fontsize = 20)\n",
    "plt.yticks(size = 12)\n",
    "plt.xticks(size = 12, rotation=50,ha='right')\n",
    "plt.title('Percent Predicted Correct', fontsize = 26)\n",
    "plt.yticks( rotation='horizontal')\n",
    "fig.tight_layout(pad = 2)\n",
    "plt.show()\n"
   ]
  },
  {
   "cell_type": "markdown",
   "metadata": {},
   "source": [
    "# Table of Classification Scores"
   ]
  },
  {
   "cell_type": "code",
   "execution_count": 18,
   "metadata": {},
   "outputs": [
    {
     "name": "stdout",
     "output_type": "stream",
     "text": [
      "                                precision    recall  f1-score   support\n",
      "\n",
      "                          BONE       0.71      0.75      0.73       383\n",
      "CARDIOVASCULAR/CARDIOPULMONARY       0.76      0.77      0.77       245\n",
      "          CELLULAR/SUBCELLULAR       0.65      0.72      0.68       239\n",
      "                   COMPARATIVE       0.60      0.57      0.59       324\n",
      "            DENTAL/ORAL/FACIAL       0.79      0.82      0.81       275\n",
      "                    ERGONOMICS       0.68      0.68      0.68       100\n",
      "        EVOLUTION/ANTHROPOLOGY       0.69      0.66      0.67       207\n",
      "               GAIT/LOCOMOTION       0.63      0.73      0.67       628\n",
      "               JOINT/CARTILAGE       0.54      0.44      0.48        91\n",
      "                       METHODS       0.63      0.54      0.58       282\n",
      "                      MODELING       0.47      0.40      0.43       307\n",
      "                        MUSCLE       0.47      0.40      0.43       249\n",
      "                        NEURAL       0.60      0.56      0.58       148\n",
      "            ORTHOPAEDICS/SPINE       0.66      0.70      0.68       374\n",
      "          ORTHOPAEDICS/SURGERY       0.77      0.81      0.79       476\n",
      "               POSTURE/BALANCE       0.66      0.70      0.68       642\n",
      "                REHABILITATION       0.63      0.50      0.56        78\n",
      "                SPORT/EXERCISE       0.67      0.62      0.65       101\n",
      "               TENDON/LIGAMENT       0.58      0.49      0.53       230\n",
      "            TISSUE/BIOMATERIAL       0.81      0.85      0.83       211\n",
      "          TRAUMA/IMPACTTESTING       0.73      0.80      0.77       557\n",
      "       VETERINARY/AGRICULTURAL       0.65      0.68      0.66       322\n",
      "         VISUAL/VESTIBULAR/EYE       0.51      0.51      0.51       427\n",
      "          HAND/FINGER/FOOT/TOE       0.66      0.64      0.65       138\n",
      "         PROSTHETICS/ORTHOTICS       0.31      0.11      0.17       122\n",
      "                   UNIQUETOPIC       0.77      0.71      0.74       128\n",
      "                      ROBOTICS       0.69      0.70      0.69       153\n",
      "\n",
      "                     micro avg       0.66      0.66      0.66      7437\n",
      "                     macro avg       0.64      0.62      0.63      7437\n",
      "                  weighted avg       0.65      0.66      0.65      7437\n",
      "\n"
     ]
    }
   ],
   "source": [
    "\n",
    "from sklearn import metrics\n",
    "print(metrics.classification_report(y_test, y_pred, target_names=data['topic'].unique()))"
   ]
  },
  {
   "cell_type": "markdown",
   "metadata": {},
   "source": [
    "# Test model on string"
   ]
  },
  {
   "cell_type": "code",
   "execution_count": 19,
   "metadata": {},
   "outputs": [
    {
     "name": "stdout",
     "output_type": "stream",
     "text": [
      "(1, 55219)\n"
     ]
    },
    {
     "data": {
      "text/plain": [
       "'MODELING'"
      ]
     },
     "execution_count": 19,
     "metadata": {},
     "output_type": "execute_result"
    }
   ],
   "source": [
    "text = ['neuromechanical effort proxies estimation computational']\n",
    "text[0] = text[0].lower()\n",
    "#text = list(text)\n",
    "s = (vectorizer.transform(text))\n",
    "#s = vectorizer.fit_transform(df)\n",
    "print (s.shape)\n",
    "d = (logreg.predict(s))\n",
    "\n",
    "le.inverse_transform(d)[0]"
   ]
  },
  {
   "cell_type": "markdown",
   "metadata": {},
   "source": [
    "# Save a model for later"
   ]
  },
  {
   "cell_type": "code",
   "execution_count": 20,
   "metadata": {},
   "outputs": [
    {
     "name": "stdout",
     "output_type": "stream",
     "text": [
      "Model Saved\n"
     ]
    }
   ],
   "source": [
    "from sklearn.externals import joblib\n",
    "joblib.dump(sgd, '../Models/SGD.pkl')\n",
    "print (\"Model Saved\")"
   ]
  },
  {
   "cell_type": "markdown",
   "metadata": {},
   "source": [
    "# Save a vectorizer for later"
   ]
  },
  {
   "cell_type": "code",
   "execution_count": 21,
   "metadata": {},
   "outputs": [
    {
     "name": "stdout",
     "output_type": "stream",
     "text": [
      "Vectorizer Saved\n"
     ]
    }
   ],
   "source": [
    "joblib.dump(vectorizer, '../Models/test_many_ML_vectorizer.pkl')\n",
    "print('Vectorizer Saved')"
   ]
  },
  {
   "cell_type": "markdown",
   "metadata": {},
   "source": [
    "# Load a model"
   ]
  },
  {
   "cell_type": "code",
   "execution_count": 22,
   "metadata": {},
   "outputs": [
    {
     "data": {
      "text/plain": [
       "LogisticRegression(C=1.0, class_weight=None, dual=False, fit_intercept=True,\n",
       "          intercept_scaling=1, max_iter=500, multi_class='multinomial',\n",
       "          n_jobs=None, penalty='l2', random_state=0, solver='sag',\n",
       "          tol=0.0001, verbose=0, warm_start=False)"
      ]
     },
     "execution_count": 22,
     "metadata": {},
     "output_type": "execute_result"
    }
   ],
   "source": [
    "clf = joblib.load('../Models/LogiReg.pkl')\n",
    "clf"
   ]
  }
 ],
 "metadata": {
  "kernelspec": {
   "display_name": "Python 3",
   "language": "python",
   "name": "python3"
  },
  "language_info": {
   "codemirror_mode": {
    "name": "ipython",
    "version": 3
   },
   "file_extension": ".py",
   "mimetype": "text/x-python",
   "name": "python",
   "nbconvert_exporter": "python",
   "pygments_lexer": "ipython3",
   "version": "3.6.8"
  },
  "varInspector": {
   "cols": {
    "lenName": 16,
    "lenType": 16,
    "lenVar": 40
   },
   "kernels_config": {
    "python": {
     "delete_cmd_postfix": "",
     "delete_cmd_prefix": "del ",
     "library": "var_list.py",
     "varRefreshCmd": "print(var_dic_list())"
    },
    "r": {
     "delete_cmd_postfix": ") ",
     "delete_cmd_prefix": "rm(",
     "library": "var_list.r",
     "varRefreshCmd": "cat(var_dic_list()) "
    }
   },
   "types_to_exclude": [
    "module",
    "function",
    "builtin_function_or_method",
    "instance",
    "_Feature"
   ],
   "window_display": false
  }
 },
 "nbformat": 4,
 "nbformat_minor": 2
}
