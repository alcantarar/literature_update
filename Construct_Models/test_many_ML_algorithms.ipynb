{
 "cells": [
  {
   "cell_type": "code",
   "execution_count": 50,
   "metadata": {},
   "outputs": [],
   "source": [
    "import numpy as np\n",
    "import pandas as pd\n",
    "import re\n",
    "from sklearn.feature_extraction.text import TfidfVectorizer\n",
    "\n",
    "import pickle "
   ]
  },
  {
   "cell_type": "markdown",
   "metadata": {},
   "source": [
    "## Read in Training Data"
   ]
  },
  {
   "cell_type": "code",
   "execution_count": 51,
   "metadata": {},
   "outputs": [
    {
     "name": "stdout",
     "output_type": "stream",
     "text": [
      "['Unnamed: 0', 'Catagory', 'Authors', 'Titles', 'Journals', 'Years', 'Vol_Isue', 'DOI', 'Abstract']\n",
      "Index(['V0', 'topic', 'authors', 'title', 'journal', 'year', 'vol_issue',\n",
      "       'doi', 'abstract'],\n",
      "      dtype='object')\n"
     ]
    }
   ],
   "source": [
    "data = pd.read_csv('../Data/RYANDATA_filt.csv')\n",
    "# data = pd.read_csv('RYANDATA_consolidated.csv')\n",
    "print(list(data))\n",
    "data.columns = ['V0','topic_split', 'topic', 'authors','title','journal','year','vol_issue','doi','abstract']\n",
    "print(data.columns)"
   ]
  },
  {
   "cell_type": "code",
   "execution_count": 52,
   "metadata": {},
   "outputs": [],
   "source": [
    "papers = pd.DataFrame(data['title'])\n",
    "topic = pd.DataFrame(data['topic'])\n",
    "author = pd.DataFrame(data['authors'])"
   ]
  },
  {
   "cell_type": "code",
   "execution_count": 53,
   "metadata": {},
   "outputs": [
    {
     "name": "stdout",
     "output_type": "stream",
     "text": [
      "35267\n",
      "35267\n"
     ]
    },
    {
     "data": {
      "text/html": [
       "<div>\n",
       "<style scoped>\n",
       "    .dataframe tbody tr th:only-of-type {\n",
       "        vertical-align: middle;\n",
       "    }\n",
       "\n",
       "    .dataframe tbody tr th {\n",
       "        vertical-align: top;\n",
       "    }\n",
       "\n",
       "    .dataframe thead th {\n",
       "        text-align: right;\n",
       "    }\n",
       "</style>\n",
       "<table border=\"1\" class=\"dataframe\">\n",
       "  <thead>\n",
       "    <tr style=\"text-align: right;\">\n",
       "      <th></th>\n",
       "      <th>title</th>\n",
       "      <th>topic</th>\n",
       "    </tr>\n",
       "  </thead>\n",
       "  <tbody>\n",
       "    <tr>\n",
       "      <th>0</th>\n",
       "      <td>Proximal radius fracture morphology following ...</td>\n",
       "      <td>BONE</td>\n",
       "    </tr>\n",
       "    <tr>\n",
       "      <th>1</th>\n",
       "      <td>Bone marrow transplantation for treatment of t...</td>\n",
       "      <td>BONE</td>\n",
       "    </tr>\n",
       "    <tr>\n",
       "      <th>2</th>\n",
       "      <td>(-)-epigallocatechin-3-gallate (egcg) enhances...</td>\n",
       "      <td>BONE</td>\n",
       "    </tr>\n",
       "    <tr>\n",
       "      <th>3</th>\n",
       "      <td>Biomechanical evaluation of a new fixation typ...</td>\n",
       "      <td>BONE</td>\n",
       "    </tr>\n",
       "    <tr>\n",
       "      <th>4</th>\n",
       "      <td>Pulsed electromagnetic fields: promising treat...</td>\n",
       "      <td>BONE</td>\n",
       "    </tr>\n",
       "  </tbody>\n",
       "</table>\n",
       "</div>"
      ],
      "text/plain": [
       "                                               title topic\n",
       "0  Proximal radius fracture morphology following ...  BONE\n",
       "1  Bone marrow transplantation for treatment of t...  BONE\n",
       "2  (-)-epigallocatechin-3-gallate (egcg) enhances...  BONE\n",
       "3  Biomechanical evaluation of a new fixation typ...  BONE\n",
       "4  Pulsed electromagnetic fields: promising treat...  BONE"
      ]
     },
     "execution_count": 53,
     "metadata": {},
     "output_type": "execute_result"
    }
   ],
   "source": [
    "print(len(papers))\n",
    "print(len(topic))\n",
    "data[['title','topic']].head()"
   ]
  },
  {
   "cell_type": "code",
   "execution_count": 54,
   "metadata": {},
   "outputs": [
    {
     "data": {
      "text/plain": [
       "array(['BONE', 'CARDIOVASCULAR/CARDIOPULMONARY', 'CELLULAR/SUBCELLULAR',\n",
       "       'COMPARATIVE', 'DENTAL/ORAL/FACIAL', 'ERGONOMICS',\n",
       "       'GAIT/LOCOMOTION', 'JOINT/CARTILAGE', 'METHODS', 'MODELING',\n",
       "       'MUSCLE', 'NEURAL', 'ORTHOPAEDICS/SPINE', 'ORTHOPAEDICS/SURGERY',\n",
       "       'PROSTHETICS/ORTHOTICS', 'REHABILITATION', 'SPORT/EXERCISE',\n",
       "       'TENDON/LIGAMENT', 'TISSUE/BIOMATERIAL', 'TRAUMA/IMPACTTESTING',\n",
       "       'VETERINARY/AGRICULTURAL', 'VISUAL/VESTIBULAR/EYE',\n",
       "       'EVOLUTION/ANTHROPOLOGY', 'ROBOTICS'], dtype=object)"
      ]
     },
     "execution_count": 54,
     "metadata": {},
     "output_type": "execute_result"
    }
   ],
   "source": [
    "topic['topic'].unique() #consolidated\n"
   ]
  },
  {
   "cell_type": "code",
   "execution_count": 55,
   "metadata": {},
   "outputs": [],
   "source": [
    "from sklearn.preprocessing import LabelEncoder\n",
    "\n",
    "feat = ['topic']\n",
    "for x in feat:\n",
    "    le = LabelEncoder()\n",
    "    le.fit(list(topic[x].values))\n",
    "    topic[x] = le.transform(list(topic[x]))"
   ]
  },
  {
   "cell_type": "code",
   "execution_count": 56,
   "metadata": {
    "scrolled": true
   },
   "outputs": [
    {
     "data": {
      "text/html": [
       "<div>\n",
       "<style scoped>\n",
       "    .dataframe tbody tr th:only-of-type {\n",
       "        vertical-align: middle;\n",
       "    }\n",
       "\n",
       "    .dataframe tbody tr th {\n",
       "        vertical-align: top;\n",
       "    }\n",
       "\n",
       "    .dataframe thead th {\n",
       "        text-align: right;\n",
       "    }\n",
       "</style>\n",
       "<table border=\"1\" class=\"dataframe\">\n",
       "  <thead>\n",
       "    <tr style=\"text-align: right;\">\n",
       "      <th></th>\n",
       "      <th>V0</th>\n",
       "      <th>topic</th>\n",
       "      <th>authors</th>\n",
       "      <th>title</th>\n",
       "      <th>journal</th>\n",
       "      <th>year</th>\n",
       "      <th>vol_issue</th>\n",
       "      <th>doi</th>\n",
       "      <th>abstract</th>\n",
       "      <th>topic_n</th>\n",
       "    </tr>\n",
       "  </thead>\n",
       "  <tbody>\n",
       "    <tr>\n",
       "      <th>0</th>\n",
       "      <td>0</td>\n",
       "      <td>BONE</td>\n",
       "      <td>['Lacheta, L', 'Siebenlist, S', 'Lauber, M', '...</td>\n",
       "      <td>Proximal radius fracture morphology following ...</td>\n",
       "      <td>Bmc Musculoskeletal Disorders</td>\n",
       "      <td>Bmc Musculoskeletal Disorders</td>\n",
       "      <td>20:</td>\n",
       "      <td>http://dx.doi.org/10.1186/s12891-019-2529-9</td>\n",
       "      <td>common location articular fractures radial hea...</td>\n",
       "      <td>0</td>\n",
       "    </tr>\n",
       "    <tr>\n",
       "      <th>1</th>\n",
       "      <td>1</td>\n",
       "      <td>BONE</td>\n",
       "      <td>['Lee, LR', 'Peacock, L', 'Ginn, SL', 'Cantril...</td>\n",
       "      <td>Bone marrow transplantation for treatment of t...</td>\n",
       "      <td>Calcified Tissue International</td>\n",
       "      <td>Calcified Tissue International</td>\n",
       "      <td>104:426-436</td>\n",
       "      <td>http://dx.doi.org/10.1007/s00223-018-0504-3</td>\n",
       "      <td>Bone marrow transplantation BMT healthy donor ...</td>\n",
       "      <td>0</td>\n",
       "    </tr>\n",
       "    <tr>\n",
       "      <th>2</th>\n",
       "      <td>2</td>\n",
       "      <td>BONE</td>\n",
       "      <td>['Lin, SY', 'Kang, L', 'Chen, JC', 'Wang, CZ',...</td>\n",
       "      <td>(-)-epigallocatechin-3-gallate (egcg) enhances...</td>\n",
       "      <td>Phytomedicine</td>\n",
       "      <td>Phytomedicine</td>\n",
       "      <td>55:165-171</td>\n",
       "      <td>http://dx.doi.org/10.1016/j.phymed.2018.07.012</td>\n",
       "      <td>Previously found epigallocatechin 3 gallate EG...</td>\n",
       "      <td>0</td>\n",
       "    </tr>\n",
       "    <tr>\n",
       "      <th>3</th>\n",
       "      <td>3</td>\n",
       "      <td>BONE</td>\n",
       "      <td>['Park, DW', 'Lim, A', 'Park, JW', 'Lim, KM', ...</td>\n",
       "      <td>Biomechanical evaluation of a new fixation typ...</td>\n",
       "      <td>Applied Sciences-Basel</td>\n",
       "      <td>Applied Sciences-Basel</td>\n",
       "      <td>9:</td>\n",
       "      <td>http://dx.doi.org/10.3390/app9050820</td>\n",
       "      <td>NaN</td>\n",
       "      <td>0</td>\n",
       "    </tr>\n",
       "    <tr>\n",
       "      <th>4</th>\n",
       "      <td>4</td>\n",
       "      <td>BONE</td>\n",
       "      <td>['Wang, T', 'Yang, L', 'Jiang, J', 'Liu, Y', '...</td>\n",
       "      <td>Pulsed electromagnetic fields: promising treat...</td>\n",
       "      <td>Osteoporosis International</td>\n",
       "      <td>Osteoporosis International</td>\n",
       "      <td>30:267-276</td>\n",
       "      <td>http://dx.doi.org/10.1007/s00198-018-04822-6</td>\n",
       "      <td>Osteoporosis OP considered well defined diseas...</td>\n",
       "      <td>0</td>\n",
       "    </tr>\n",
       "  </tbody>\n",
       "</table>\n",
       "</div>"
      ],
      "text/plain": [
       "   V0 topic                                            authors  \\\n",
       "0   0  BONE  ['Lacheta, L', 'Siebenlist, S', 'Lauber, M', '...   \n",
       "1   1  BONE  ['Lee, LR', 'Peacock, L', 'Ginn, SL', 'Cantril...   \n",
       "2   2  BONE  ['Lin, SY', 'Kang, L', 'Chen, JC', 'Wang, CZ',...   \n",
       "3   3  BONE  ['Park, DW', 'Lim, A', 'Park, JW', 'Lim, KM', ...   \n",
       "4   4  BONE  ['Wang, T', 'Yang, L', 'Jiang, J', 'Liu, Y', '...   \n",
       "\n",
       "                                               title  \\\n",
       "0  Proximal radius fracture morphology following ...   \n",
       "1  Bone marrow transplantation for treatment of t...   \n",
       "2  (-)-epigallocatechin-3-gallate (egcg) enhances...   \n",
       "3  Biomechanical evaluation of a new fixation typ...   \n",
       "4  Pulsed electromagnetic fields: promising treat...   \n",
       "\n",
       "                          journal                            year  \\\n",
       "0   Bmc Musculoskeletal Disorders   Bmc Musculoskeletal Disorders   \n",
       "1  Calcified Tissue International  Calcified Tissue International   \n",
       "2                   Phytomedicine                   Phytomedicine   \n",
       "3          Applied Sciences-Basel          Applied Sciences-Basel   \n",
       "4      Osteoporosis International      Osteoporosis International   \n",
       "\n",
       "     vol_issue                                             doi  \\\n",
       "0          20:     http://dx.doi.org/10.1186/s12891-019-2529-9   \n",
       "1  104:426-436     http://dx.doi.org/10.1007/s00223-018-0504-3   \n",
       "2   55:165-171  http://dx.doi.org/10.1016/j.phymed.2018.07.012   \n",
       "3           9:            http://dx.doi.org/10.3390/app9050820   \n",
       "4   30:267-276    http://dx.doi.org/10.1007/s00198-018-04822-6   \n",
       "\n",
       "                                            abstract  topic_n  \n",
       "0  common location articular fractures radial hea...        0  \n",
       "1  Bone marrow transplantation BMT healthy donor ...        0  \n",
       "2  Previously found epigallocatechin 3 gallate EG...        0  \n",
       "3                                                NaN        0  \n",
       "4  Osteoporosis OP considered well defined diseas...        0  "
      ]
     },
     "execution_count": 56,
     "metadata": {},
     "output_type": "execute_result"
    }
   ],
   "source": [
    "topic['topic'].unique()\n",
    "data['topic_n'] = topic['topic']\n",
    "data.head()"
   ]
  },
  {
   "cell_type": "code",
   "execution_count": 57,
   "metadata": {},
   "outputs": [
    {
     "name": "stdout",
     "output_type": "stream",
     "text": [
      "Saved label encoder: test_many_ML_Label_Encoder.npy\n"
     ]
    }
   ],
   "source": [
    "#save label encoder\n",
    "np.save('../Models/Many_ML_models/test_many_ML_Label_Encoder.npy',le.classes_)\n",
    "print('Saved label encoder: test_many_ML_Label_Encoder.npy')"
   ]
  },
  {
   "cell_type": "code",
   "execution_count": 58,
   "metadata": {},
   "outputs": [
    {
     "name": "stdout",
     "output_type": "stream",
     "text": [
      "Proximal radius fracture morphology following axial force impact: a biomechanical evaluation of fracture patterns\n"
     ]
    }
   ],
   "source": [
    "data['everything'] = pd.DataFrame(data['title'])\n",
    "data['everything'] = data['everything'].replace(np.nan, '', regex = True)\n",
    "print(data['everything'][0])"
   ]
  },
  {
   "cell_type": "markdown",
   "metadata": {},
   "source": [
    "## Clean up titles"
   ]
  },
  {
   "cell_type": "code",
   "execution_count": 59,
   "metadata": {},
   "outputs": [
    {
     "data": {
      "text/plain": [
       "0    Proximal radius fracture morphology following ...\n",
       "1    Bone marrow transplantation treatment col1a2(+...\n",
       "2    (-)-epigallocatechin-3-gallate (egcg) enhances...\n",
       "3    Biomechanical evaluation new fixation type 3d-...\n",
       "4    Pulsed electromagnetic fields: promising treat...\n",
       "Name: everything, dtype: object"
      ]
     },
     "execution_count": 59,
     "metadata": {},
     "output_type": "execute_result"
    }
   ],
   "source": [
    "def change(t):\n",
    "    t = t.split()\n",
    "    return ' '.join([(i) for (i) in t if i not in stop])\n",
    "# import nltk\n",
    "# nltk.download('stopwords')\n",
    "from nltk.corpus import stopwords\n",
    "stop = list(stopwords.words('english'))\n",
    "stop.append('The')\n",
    "stop.append('An')\n",
    "stop.append('A')\n",
    "stop.append('Do')\n",
    "stop.append('Is')\n",
    "stop.append('In')\n",
    "\n",
    "data['everything'].apply(change).head()\n"
   ]
  },
  {
   "cell_type": "markdown",
   "metadata": {},
   "source": [
    "## Split Data"
   ]
  },
  {
   "cell_type": "code",
   "execution_count": 60,
   "metadata": {},
   "outputs": [],
   "source": [
    "#split then vectorize per https://www.ritchieng.com/machine-learning-multinomial-naive-bayes-vectorization/#3.-Reading-a-text-based-dataset-into-pandas \n",
    "#(scroll down to 'Why are we splitting into training and testing sets before vectorizing?')\n",
    "\n",
    "from sklearn.naive_bayes import MultinomialNB\n",
    "from sklearn import metrics\n",
    "from sklearn.model_selection import StratifiedKFold, cross_val_score, train_test_split\n",
    "from imblearn.under_sampling import NearMiss\n",
    "from imblearn.over_sampling import SMOTE\n",
    "from imblearn.pipeline import make_pipeline\n",
    "from imblearn.metrics import classification_report_imbalanced\n",
    "# from sklearn.model_selection import train_test_split\n",
    "\n",
    "\n",
    "# X_train, X_test, y_train, y_test = train_test_split(data['everything'],\n",
    "#                                                     data['topic'],\n",
    "#                                                     test_size=0.2,\n",
    "#                                                     random_state = 0)\n",
    "\n",
    "from sklearn.model_selection import StratifiedShuffleSplit\n",
    "sss = StratifiedShuffleSplit(n_splits= 1, \n",
    "                             test_size = 0.2, \n",
    "                             random_state = 0)\n",
    "\n",
    "for train_idx, test_idx in sss.split(data['everything'],data['topic']):\n",
    "    X_train, X_test = data['everything'][train_idx], data['everything'][test_idx]\n",
    "    y_train, y_test = data['topic'][train_idx], data['topic'][test_idx]\n",
    "\n",
    "\n",
    "\n",
    "# print (X_train.shape)\n",
    "# print (X_test.shape)\n",
    "# print (y_train.shape)\n",
    "# print (y_test.shape)\n"
   ]
  },
  {
   "cell_type": "markdown",
   "metadata": {},
   "source": [
    "## Vectorize words in titles"
   ]
  },
  {
   "cell_type": "code",
   "execution_count": 61,
   "metadata": {
    "scrolled": true
   },
   "outputs": [
    {
     "name": "stdout",
     "output_type": "stream",
     "text": [
      "(28213, 22527)\n",
      "(7054, 22527)\n",
      "(35267, 22527)\n"
     ]
    }
   ],
   "source": [
    "from sklearn.feature_extraction.text import TfidfVectorizer\n",
    "vectorizer = TfidfVectorizer(min_df=3, #min occurances needed\n",
    "                             max_df=.75, #max occuraces allowed (%)\n",
    "                             ngram_range=(1,2), #size range of grams (1-2 words)\n",
    "                             strip_accents='unicode',\n",
    "                             lowercase =True,\n",
    "                             analyzer='word', \n",
    "                             token_pattern=r'\\w+', \n",
    "                             stop_words = 'english',\n",
    "                             smooth_idf = True\n",
    "                             )\n",
    "X_train_dtm = vectorizer.fit_transform(X_train)\n",
    "X_test_dtm = vectorizer.transform(X_test) #DONT FIT VECTORIZER TO TEST DATA. ONLY TRANSFORM\n",
    "X_all_dtm = vectorizer.transform(data['everything'])\n",
    "\n",
    "with open('../Models/Many_ML_models/Many_ml_Vectorizer_tdif.pkl', 'wb') as f:\n",
    "    pickle.dump(vectorizer, f)\n",
    "    \n",
    "print(X_train_dtm.shape)\n",
    "print(X_test_dtm.shape)\n",
    "print(X_all_dtm.shape)"
   ]
  },
  {
   "cell_type": "code",
   "execution_count": 62,
   "metadata": {},
   "outputs": [
    {
     "name": "stdout",
     "output_type": "stream",
     "text": [
      "Each Topic has 2547 entries.\n"
     ]
    }
   ],
   "source": [
    "# RESAMPLE TO BALANCE CLASSES\n",
    "from imblearn.over_sampling import RandomOverSampler\n",
    "ros = RandomOverSampler(random_state=0)\n",
    "X_resampled, y_resampled = ros.fit_resample(X_train_dtm, y_train)\n",
    "from collections import Counter\n",
    "# print(sorted(Counter(y_resampled).items()))\n",
    "print('Each Topic has ' + str(Counter(y_resampled)['BONE']) +' entries.')"
   ]
  },
  {
   "cell_type": "markdown",
   "metadata": {},
   "source": [
    "# Test Models: \n",
    "## Multinomial Naive Bayes"
   ]
  },
  {
   "cell_type": "code",
   "execution_count": 63,
   "metadata": {},
   "outputs": [
    {
     "name": "stdout",
     "output_type": "stream",
     "text": [
      "MNB f1 score: 63.5\n",
      "MNB accuracy: 64.5\n",
      "Saved Multinomial Naive Bayes: mnb.pkl\n"
     ]
    }
   ],
   "source": [
    "mnb = MultinomialNB(alpha=.45)\n",
    "mnb.fit(X_resampled, y_resampled)\n",
    "pred = mnb.predict(X_test_dtm)\n",
    "print('MNB f1 score: ' + str(np.round(metrics.f1_score(y_test, pred, average='macro')*100,1)))\n",
    "print('MNB accuracy: ' + str(np.round(metrics.accuracy_score(y_test, pred)*100,1)))\n",
    "# print(classification_report_imbalanced(y_test, pred))\n",
    "\n",
    "with open('../Models/Many_ML_models/mnb.pkl', 'wb') as file:  \n",
    "    pickle.dump(mnb, file)\n",
    "print('Saved Multinomial Naive Bayes: mnb.pkl')"
   ]
  },
  {
   "cell_type": "markdown",
   "metadata": {},
   "source": [
    "## Logistic Regression"
   ]
  },
  {
   "cell_type": "code",
   "execution_count": 64,
   "metadata": {},
   "outputs": [
    {
     "name": "stdout",
     "output_type": "stream",
     "text": [
      "LogReg f1 score: 66.9\n",
      "LogReg f1 score: 67.4\n",
      "Saved Logistic Regression: logreg.pkl\n"
     ]
    }
   ],
   "source": [
    "from sklearn import linear_model\n",
    "logreg = linear_model.LogisticRegression(solver= 'sag',max_iter=500,random_state=0, multi_class='multinomial')\n",
    "logreg.fit(X_resampled, y_resampled)\n",
    "pred = logreg.predict(X_test_dtm)\n",
    "print('LogReg f1 score: ' + str(np.round(metrics.f1_score(y_test, pred, average='macro')*100,1)))\n",
    "print('LogReg f1 score: ' + str(np.round(metrics.accuracy_score(y_test, pred)*100,1)))\n",
    "# print(classification_report_imbalanced(y_test, pred))\n",
    "                                \n",
    "with open('../Models/Many_ML_models/logreg.pkl', 'wb') as file:  \n",
    "    pickle.dump(logreg, file)\n",
    "print('Saved Logistic Regression: logreg.pkl')"
   ]
  },
  {
   "cell_type": "markdown",
   "metadata": {},
   "source": [
    "## Stochastic Gradient Descent (SGD) learning"
   ]
  },
  {
   "cell_type": "code",
   "execution_count": 66,
   "metadata": {},
   "outputs": [
    {
     "name": "stdout",
     "output_type": "stream",
     "text": [
      "SGD f1 score: 63.8\n",
      "SGD f1 score: 65.0\n",
      "Saved Stochastic Gradient Descent (SGD): sgd.pkl\n"
     ]
    }
   ],
   "source": [
    "from sklearn.linear_model import SGDClassifier\n",
    "sgd = SGDClassifier(max_iter=1000, \n",
    "                    random_state=0, \n",
    "                    tol = 1e-3, \n",
    "                    alpha= 0.0001\n",
    "                   )\n",
    "sgd.fit(X_resampled, y_resampled)\n",
    "pred = sgd.predict(X_test_dtm)\n",
    "print('SGD f1 score: ' + str(np.round(metrics.f1_score(y_test, pred, average='macro')*100,1)))\n",
    "print('SGD f1 score: ' + str(np.round(metrics.accuracy_score(y_test, pred)*100,1)))\n",
    "# print(classification_report_imbalanced(y_test, pred))\n",
    "                             \n",
    "with open('../Models/Many_ML_models/sgd.pkl', 'wb') as file:  \n",
    "    pickle.dump(sgd, file)\n",
    "print('Saved Stochastic Gradient Descent (SGD): sgd.pkl')"
   ]
  },
  {
   "cell_type": "markdown",
   "metadata": {},
   "source": [
    "## Linear SVC"
   ]
  },
  {
   "cell_type": "code",
   "execution_count": 67,
   "metadata": {},
   "outputs": [
    {
     "name": "stdout",
     "output_type": "stream",
     "text": [
      "LSVC f1 score: 63.5\n",
      "LSVC f1 score: 64.6\n",
      "Saved Linear Supper Vector Classifier (SVC): svc.pkl\n"
     ]
    }
   ],
   "source": [
    "from sklearn.svm import LinearSVC\n",
    "\n",
    "#fit model\n",
    "lsvc =LinearSVC(max_iter=1000)\n",
    "lsvc.fit(X_resampled, y_resampled)\n",
    "pred = lsvc.predict(X_test_dtm)\n",
    "print('LSVC f1 score: ' + str(np.round(metrics.f1_score(y_test, pred, average='macro')*100,1)))\n",
    "print('LSVC f1 score: ' + str(np.round(metrics.accuracy_score(y_test, pred)*100,1)))\n",
    "# print(classification_report_imbalanced(y_test, pred))\n",
    "                              \n",
    "with open('../Models/Many_ML_models/lsvc.pkl', 'wb') as file:  \n",
    "    pickle.dump(lsvc, file)\n",
    "print('Saved Linear Supper Vector Classifier (SVC): svc.pkl')"
   ]
  },
  {
   "cell_type": "markdown",
   "metadata": {},
   "source": [
    "# Neural Network  kfold Cross Validation w/ balanced dataset"
   ]
  },
  {
   "cell_type": "code",
   "execution_count": 68,
   "metadata": {},
   "outputs": [],
   "source": [
    "from sklearn.neural_network import MLPClassifier\n",
    "from sklearn.model_selection import KFold\n",
    "#https://stackoverflow.com/questions/44683197/implement-k-fold-cross-validation-in-mlpclassification-python\n",
    "# VECTORIZE\n",
    "X_all_v = vectorizer.fit_transform(data['everything'])\n"
   ]
  },
  {
   "cell_type": "code",
   "execution_count": 69,
   "metadata": {},
   "outputs": [
    {
     "name": "stdout",
     "output_type": "stream",
     "text": [
      "Number of papers per topic: 2547\n"
     ]
    }
   ],
   "source": [
    "# RESAMPLE TO BALANCE CLASSES\n",
    "X_all_resampled, y_all_resampled = ros.fit_resample(X_train_dtm, y_train)\n",
    "from collections import Counter\n",
    "#print(sorted(Counter(y_resampled).items()))\n",
    "#print(sorted(Counter(y_resampled['BONE']).items()))\n",
    "print('Number of papers per topic: ' + str(Counter(y_resampled)['BONE']))"
   ]
  },
  {
   "cell_type": "code",
   "execution_count": 72,
   "metadata": {},
   "outputs": [
    {
     "name": "stdout",
     "output_type": "stream",
     "text": [
      "Accuracy: 80.8\n",
      "Accuracy: 80.5\n",
      "Accuracy: 86.9\n",
      "Accuracy: 88.4\n",
      "Accuracy: 91.1\n",
      "Saved MLP Classifier: mlp.pkl\n"
     ]
    }
   ],
   "source": [
    "#BUILD MODEL/FOLDS\n",
    "kf = KFold(n_splits = 5)\n",
    "mlp = MLPClassifier(hidden_layer_sizes = (200),\n",
    "                    activation = 'relu',\n",
    "                    solver = 'adam',\n",
    "                    batch_size = 1000,\n",
    "                    learning_rate = 'adaptive',\n",
    "                    shuffle = True,\n",
    "                    random_state = 0,\n",
    "                    verbose = 0,\n",
    "                    early_stopping = True,\n",
    "                    validation_fraction= 0.2,\n",
    "                    max_iter= 25,\n",
    "                    n_iter_no_change=5,\n",
    "                    tol = 0.01)\n",
    "import time\n",
    "for train_indices, test_indices in kf.split(X_resampled):\n",
    "    mlp.fit(X_resampled[train_indices], y_resampled[train_indices])\n",
    "    print('Accuracy: ' + str(np.round(mlp.score(X_resampled[test_indices], y_resampled[test_indices])*100,1)))\n",
    "    time.sleep(5)\n",
    "          \n",
    "with open('../Models/Many_ML_models/mlp.pkl', 'wb') as file:  \n",
    "    pickle.dump(mlp, file)\n",
    "print('Saved MLP Classifier: mlp.pkl')"
   ]
  },
  {
   "cell_type": "code",
   "execution_count": 73,
   "metadata": {},
   "outputs": [
    {
     "name": "stdout",
     "output_type": "stream",
     "text": [
      "MEAN: 0.8450785161332701\n",
      "SD: 0.04116419957569286\n"
     ]
    }
   ],
   "source": [
    "#K(5) fold cross validation scores: \n",
    "scores_print = [0.8035887850467289,\n",
    "0.7960373831775701,\n",
    "0.8559892328398385,\n",
    "0.8618962165395544,\n",
    "0.9078809630626589]\n",
    "\n",
    "print('MEAN:',np.mean(scores_print))\n",
    "print('SD:',np.std(scores_print))"
   ]
  },
  {
   "cell_type": "code",
   "execution_count": 74,
   "metadata": {},
   "outputs": [
    {
     "name": "stdout",
     "output_type": "stream",
     "text": [
      "X_test shape: (7054, 22527)\n",
      "y_test shape: (7054,)\n"
     ]
    }
   ],
   "source": [
    "print('X_test shape: ' + str(X_test_dtm.shape))\n",
    "print('y_test shape: ' + str(y_test.shape))"
   ]
  },
  {
   "cell_type": "code",
   "execution_count": 66,
   "metadata": {},
   "outputs": [
    {
     "name": "stdout",
     "output_type": "stream",
     "text": [
      "                                      pre       rec       spe        f1       geo       iba       sup\n",
      "\n",
      "                          BONE       0.70      0.74      0.98      0.72      0.85      0.71       392\n",
      "CARDIOVASCULAR/CARDIOPULMONARY       0.72      0.67      0.99      0.69      0.81      0.64       233\n",
      "          CELLULAR/SUBCELLULAR       0.64      0.72      0.99      0.68      0.84      0.69       243\n",
      "                   COMPARATIVE       0.52      0.54      0.98      0.53      0.72      0.50       321\n",
      "            DENTAL/ORAL/FACIAL       0.78      0.73      0.99      0.75      0.85      0.71       269\n",
      "                    ERGONOMICS       0.62      0.58      0.99      0.60      0.76      0.55       100\n",
      "        EVOLUTION/ANTHROPOLOGY       0.62      0.59      0.99      0.61      0.77      0.57       200\n",
      "               GAIT/LOCOMOTION       0.61      0.65      0.96      0.63      0.79      0.60       637\n",
      "               JOINT/CARTILAGE       0.56      0.51      0.98      0.54      0.71      0.48       286\n",
      "                       METHODS       0.41      0.47      0.97      0.44      0.67      0.43       288\n",
      "                      MODELING       0.39      0.42      0.98      0.40      0.64      0.38       248\n",
      "                        MUSCLE       0.49      0.48      0.99      0.48      0.69      0.45       141\n",
      "                        NEURAL       0.62      0.71      0.98      0.66      0.83      0.68       341\n",
      "            ORTHOPAEDICS/SPINE       0.76      0.77      0.98      0.77      0.87      0.74       457\n",
      "          ORTHOPAEDICS/SURGERY       0.66      0.69      0.97      0.67      0.82      0.65       611\n",
      "         PROSTHETICS/ORTHOTICS       0.66      0.56      1.00      0.60      0.75      0.53       111\n",
      "                REHABILITATION       0.60      0.47      0.99      0.53      0.68      0.44       235\n",
      "                      ROBOTICS       0.83      0.75      1.00      0.79      0.87      0.73       212\n",
      "                SPORT/EXERCISE       0.76      0.76      0.98      0.76      0.86      0.73       562\n",
      "               TENDON/LIGAMENT       0.65      0.65      0.98      0.65      0.80      0.62       310\n",
      "            TISSUE/BIOMATERIAL       0.56      0.55      0.97      0.56      0.73      0.52       424\n",
      "          TRAUMA/IMPACTTESTING       0.80      0.65      1.00      0.72      0.81      0.63       138\n",
      "       VETERINARY/AGRICULTURAL       0.80      0.59      1.00      0.68      0.76      0.56       140\n",
      "         VISUAL/VESTIBULAR/EYE       0.72      0.67      0.99      0.70      0.82      0.65       155\n",
      "\n",
      "                   avg / total       0.64      0.64      0.98      0.64      0.79      0.61      7054\n",
      "\n"
     ]
    }
   ],
   "source": [
    "#print(X_test_dtm)\n",
    "pred = mlp.predict(X_test_dtm)\n",
    "print(classification_report_imbalanced(y_test, pred))"
   ]
  },
  {
   "cell_type": "markdown",
   "metadata": {},
   "source": [
    "# Plot Confusion Matrix "
   ]
  },
  {
   "cell_type": "code",
   "execution_count": 75,
   "metadata": {
    "scrolled": true
   },
   "outputs": [
    {
     "data": {
      "text/plain": [
       "<Figure size 1600x900 with 2 Axes>"
      ]
     },
     "metadata": {},
     "output_type": "display_data"
    },
    {
     "name": "stdout",
     "output_type": "stream",
     "text": [
      "Accuracy: 64.1%\n"
     ]
    }
   ],
   "source": [
    "import matplotlib.pyplot as plt\n",
    "import seaborn as sns\n",
    "\n",
    "data['topic_id'] = data['topic'].factorize()[0]\n",
    "topic_id_df = data[['topic',\n",
    "                  'topic_id']].drop_duplicates().sort_values('topic_id')\n",
    "topic_to_id = dict(topic_id_df.values)\n",
    "id_to_topic = dict(topic_id_df[['topic_id','topic']].values)\n",
    "\n",
    "model = mlp\n",
    "\n",
    "pred = mlp.predict(X_test_dtm)\n",
    "y_pred = pred\n",
    "from sklearn.metrics import confusion_matrix\n",
    "plt.rc('xtick',labelsize = 20)\n",
    "plt.rc('ytick',labelsize = 20)\n",
    "conf_mat = confusion_matrix(y_test, y_pred)\n",
    "conf_mat_rowsum = [sum(row) for row in conf_mat]\n",
    "conf_mat_perc = conf_mat / conf_mat_rowsum\n",
    "fig, ax = plt.subplots(figsize=(16,9))\n",
    "sns.set(font_scale=1.2) #font size multiplier\n",
    "sns.heatmap(conf_mat_perc, annot=True, fmt='.0%', cmap = 'magma', annot_kws={\"size\": 12},\n",
    "            xticklabels=topic_id_df.topic.values, yticklabels=topic_id_df.topic.values)\n",
    "\n",
    "plt.ylabel('Actual',fontsize = 20)\n",
    "plt.xlabel('Predicted',fontsize = 20)\n",
    "plt.yticks(size = 12)\n",
    "plt.xticks(size = 12, rotation=30,ha='right')\n",
    "plt.title('Percent Predicted Correct', fontsize = 26)\n",
    "plt.yticks( rotation='horizontal')\n",
    "fig.tight_layout(pad = 2)\n",
    "plt.show()\n",
    "print('Accuracy: ' + str(round(sum(np.diagonal(conf_mat))/X_test.shape[0]*100,1)) + '%')\n",
    "fig.savefig('../Plots/biomchL_predict_plot_MLP.png')"
   ]
  },
  {
   "cell_type": "markdown",
   "metadata": {},
   "source": [
    "# Table of Classification Scores"
   ]
  },
  {
   "cell_type": "markdown",
   "metadata": {},
   "source": [
    "# Test model on string"
   ]
  },
  {
   "cell_type": "code",
   "execution_count": 419,
   "metadata": {},
   "outputs": [
    {
     "name": "stdout",
     "output_type": "stream",
     "text": [
      "(1, 23613)\n",
      "['SPORT/EXERCISE']\n"
     ]
    }
   ],
   "source": [
    "text = ['Stroller running: Energetic and kinematic changes across pushing methods']\n",
    "text[0] = text[0].lower()\n",
    "#text = list(text)\n",
    "s = (vectorizer.transform(text))\n",
    "#s = vectorizer.fit_transform(df)\n",
    "print (s.shape)\n",
    "d = (logreg.predict(s))\n",
    "print(d)\n",
    "# le.inverse_transform(d)[0]"
   ]
  },
  {
   "cell_type": "markdown",
   "metadata": {},
   "source": [
    "# Save a model for later"
   ]
  },
  {
   "cell_type": "code",
   "execution_count": 420,
   "metadata": {},
   "outputs": [
    {
     "name": "stdout",
     "output_type": "stream",
     "text": [
      "Model Saved\n"
     ]
    }
   ],
   "source": [
    "# from sklearn.externals import joblib\n",
    "# joblib.dump(mlp, '../Models/NeuralNet.pkl')\n",
    "# print (\"Model Saved\")"
   ]
  },
  {
   "cell_type": "markdown",
   "metadata": {},
   "source": [
    "# Save a vectorizer for later"
   ]
  },
  {
   "cell_type": "code",
   "execution_count": 421,
   "metadata": {},
   "outputs": [
    {
     "name": "stdout",
     "output_type": "stream",
     "text": [
      "Vectorizer Saved\n"
     ]
    }
   ],
   "source": [
    "# from sklearn.externals import joblib\n",
    "# joblib.dump(vectorizer, '../Models/test_many_ML_vectorizer.pkl')\n",
    "# print('Vectorizer Saved')"
   ]
  },
  {
   "cell_type": "markdown",
   "metadata": {},
   "source": [
    "# Load a model"
   ]
  },
  {
   "cell_type": "code",
   "execution_count": null,
   "metadata": {},
   "outputs": [],
   "source": [
    "# clf = joblib.load('../Models/MultNB.pkl')\n",
    "# clf"
   ]
  }
 ],
 "metadata": {
  "kernelspec": {
   "display_name": "Python 3",
   "language": "python",
   "name": "python3"
  },
  "language_info": {
   "codemirror_mode": {
    "name": "ipython",
    "version": 3
   },
   "file_extension": ".py",
   "mimetype": "text/x-python",
   "name": "python",
   "nbconvert_exporter": "python",
   "pygments_lexer": "ipython3",
   "version": "3.7.0"
  },
  "varInspector": {
   "cols": {
    "lenName": 16,
    "lenType": 16,
    "lenVar": 40
   },
   "kernels_config": {
    "python": {
     "delete_cmd_postfix": "",
     "delete_cmd_prefix": "del ",
     "library": "var_list.py",
     "varRefreshCmd": "print(var_dic_list())"
    },
    "r": {
     "delete_cmd_postfix": ") ",
     "delete_cmd_prefix": "rm(",
     "library": "var_list.r",
     "varRefreshCmd": "cat(var_dic_list()) "
    }
   },
   "types_to_exclude": [
    "module",
    "function",
    "builtin_function_or_method",
    "instance",
    "_Feature"
   ],
   "window_display": false
  }
 },
 "nbformat": 4,
 "nbformat_minor": 2
}
